{
 "cells": [
  {
   "cell_type": "code",
   "execution_count": 1,
   "metadata": {},
   "outputs": [],
   "source": [
    "import os\n",
    "os.chdir('../')"
   ]
  },
  {
   "cell_type": "code",
   "execution_count": 2,
   "metadata": {},
   "outputs": [],
   "source": [
    "import pickle\n",
    "import itertools\n",
    "\n",
    "from datetime import datetime\n",
    "import numpy as np\n",
    "import pandas as pd\n",
    "import matplotlib.pyplot as plt\n",
    "\n",
    "from sklearn.metrics import roc_auc_score, precision_score, recall_score\n",
    "from sklearn.model_selection import train_test_split, KFold\n",
    "from xgboost.sklearn import XGBClassifier"
   ]
  },
  {
   "cell_type": "code",
   "execution_count": 3,
   "metadata": {},
   "outputs": [
    {
     "data": {
      "text/html": [
       "<div>\n",
       "<style scoped>\n",
       "    .dataframe tbody tr th:only-of-type {\n",
       "        vertical-align: middle;\n",
       "    }\n",
       "\n",
       "    .dataframe tbody tr th {\n",
       "        vertical-align: top;\n",
       "    }\n",
       "\n",
       "    .dataframe thead th {\n",
       "        text-align: right;\n",
       "    }\n",
       "</style>\n",
       "<table border=\"1\" class=\"dataframe\">\n",
       "  <thead>\n",
       "    <tr style=\"text-align: right;\">\n",
       "      <th></th>\n",
       "      <th>TICKER</th>\n",
       "      <th>annee</th>\n",
       "      <th>mois</th>\n",
       "      <th>jour</th>\n",
       "      <th>OP</th>\n",
       "      <th>UP</th>\n",
       "      <th>DO</th>\n",
       "      <th>CL</th>\n",
       "      <th>VO</th>\n",
       "      <th>RDMT_J</th>\n",
       "      <th>...</th>\n",
       "      <th>strategique</th>\n",
       "      <th>transaction</th>\n",
       "      <th>actionnaires</th>\n",
       "      <th>coentreprise</th>\n",
       "      <th>construction</th>\n",
       "      <th>collaboration</th>\n",
       "      <th>developpement</th>\n",
       "      <th>l_acquisition</th>\n",
       "      <th>participation</th>\n",
       "      <th>recommandation</th>\n",
       "    </tr>\n",
       "  </thead>\n",
       "  <tbody>\n",
       "    <tr>\n",
       "      <th>0</th>\n",
       "      <td>AC</td>\n",
       "      <td>2007</td>\n",
       "      <td>10</td>\n",
       "      <td>1</td>\n",
       "      <td>50.820</td>\n",
       "      <td>52.450</td>\n",
       "      <td>50.720</td>\n",
       "      <td>52.440</td>\n",
       "      <td>939518</td>\n",
       "      <td>0.045576</td>\n",
       "      <td>...</td>\n",
       "      <td>0</td>\n",
       "      <td>0</td>\n",
       "      <td>0</td>\n",
       "      <td>0</td>\n",
       "      <td>0</td>\n",
       "      <td>0</td>\n",
       "      <td>0</td>\n",
       "      <td>0</td>\n",
       "      <td>0</td>\n",
       "      <td>0</td>\n",
       "    </tr>\n",
       "    <tr>\n",
       "      <th>1</th>\n",
       "      <td>AC</td>\n",
       "      <td>2007</td>\n",
       "      <td>10</td>\n",
       "      <td>10</td>\n",
       "      <td>57.600</td>\n",
       "      <td>57.900</td>\n",
       "      <td>56.480</td>\n",
       "      <td>56.740</td>\n",
       "      <td>1167710</td>\n",
       "      <td>0.005640</td>\n",
       "      <td>...</td>\n",
       "      <td>0</td>\n",
       "      <td>0</td>\n",
       "      <td>0</td>\n",
       "      <td>0</td>\n",
       "      <td>0</td>\n",
       "      <td>0</td>\n",
       "      <td>0</td>\n",
       "      <td>0</td>\n",
       "      <td>0</td>\n",
       "      <td>0</td>\n",
       "    </tr>\n",
       "    <tr>\n",
       "      <th>2</th>\n",
       "      <td>AC</td>\n",
       "      <td>2007</td>\n",
       "      <td>10</td>\n",
       "      <td>11</td>\n",
       "      <td>56.570</td>\n",
       "      <td>57.900</td>\n",
       "      <td>56.570</td>\n",
       "      <td>57.060</td>\n",
       "      <td>910369</td>\n",
       "      <td>-0.005258</td>\n",
       "      <td>...</td>\n",
       "      <td>0</td>\n",
       "      <td>0</td>\n",
       "      <td>0</td>\n",
       "      <td>0</td>\n",
       "      <td>0</td>\n",
       "      <td>0</td>\n",
       "      <td>0</td>\n",
       "      <td>0</td>\n",
       "      <td>0</td>\n",
       "      <td>0</td>\n",
       "    </tr>\n",
       "    <tr>\n",
       "      <th>3</th>\n",
       "      <td>AC</td>\n",
       "      <td>2007</td>\n",
       "      <td>10</td>\n",
       "      <td>12</td>\n",
       "      <td>57.100</td>\n",
       "      <td>57.100</td>\n",
       "      <td>55.500</td>\n",
       "      <td>56.760</td>\n",
       "      <td>996349</td>\n",
       "      <td>-0.011628</td>\n",
       "      <td>...</td>\n",
       "      <td>0</td>\n",
       "      <td>0</td>\n",
       "      <td>0</td>\n",
       "      <td>0</td>\n",
       "      <td>0</td>\n",
       "      <td>0</td>\n",
       "      <td>0</td>\n",
       "      <td>0</td>\n",
       "      <td>0</td>\n",
       "      <td>0</td>\n",
       "    </tr>\n",
       "    <tr>\n",
       "      <th>4</th>\n",
       "      <td>AC</td>\n",
       "      <td>2007</td>\n",
       "      <td>10</td>\n",
       "      <td>15</td>\n",
       "      <td>56.760</td>\n",
       "      <td>57.290</td>\n",
       "      <td>55.770</td>\n",
       "      <td>56.100</td>\n",
       "      <td>573647</td>\n",
       "      <td>-0.003209</td>\n",
       "      <td>...</td>\n",
       "      <td>0</td>\n",
       "      <td>0</td>\n",
       "      <td>0</td>\n",
       "      <td>0</td>\n",
       "      <td>0</td>\n",
       "      <td>0</td>\n",
       "      <td>0</td>\n",
       "      <td>0</td>\n",
       "      <td>0</td>\n",
       "      <td>0</td>\n",
       "    </tr>\n",
       "    <tr>\n",
       "      <th>...</th>\n",
       "      <td>...</td>\n",
       "      <td>...</td>\n",
       "      <td>...</td>\n",
       "      <td>...</td>\n",
       "      <td>...</td>\n",
       "      <td>...</td>\n",
       "      <td>...</td>\n",
       "      <td>...</td>\n",
       "      <td>...</td>\n",
       "      <td>...</td>\n",
       "      <td>...</td>\n",
       "      <td>...</td>\n",
       "      <td>...</td>\n",
       "      <td>...</td>\n",
       "      <td>...</td>\n",
       "      <td>...</td>\n",
       "      <td>...</td>\n",
       "      <td>...</td>\n",
       "      <td>...</td>\n",
       "      <td>...</td>\n",
       "      <td>...</td>\n",
       "    </tr>\n",
       "    <tr>\n",
       "      <th>106537</th>\n",
       "      <td>VIV</td>\n",
       "      <td>2017</td>\n",
       "      <td>9</td>\n",
       "      <td>4</td>\n",
       "      <td>20.065</td>\n",
       "      <td>20.235</td>\n",
       "      <td>20.030</td>\n",
       "      <td>20.100</td>\n",
       "      <td>2250835</td>\n",
       "      <td>0.002736</td>\n",
       "      <td>...</td>\n",
       "      <td>0</td>\n",
       "      <td>0</td>\n",
       "      <td>0</td>\n",
       "      <td>0</td>\n",
       "      <td>0</td>\n",
       "      <td>0</td>\n",
       "      <td>0</td>\n",
       "      <td>0</td>\n",
       "      <td>0</td>\n",
       "      <td>0</td>\n",
       "    </tr>\n",
       "    <tr>\n",
       "      <th>106538</th>\n",
       "      <td>VIV</td>\n",
       "      <td>2017</td>\n",
       "      <td>9</td>\n",
       "      <td>5</td>\n",
       "      <td>20.095</td>\n",
       "      <td>20.290</td>\n",
       "      <td>19.985</td>\n",
       "      <td>20.155</td>\n",
       "      <td>3095238</td>\n",
       "      <td>-0.001985</td>\n",
       "      <td>...</td>\n",
       "      <td>0</td>\n",
       "      <td>0</td>\n",
       "      <td>0</td>\n",
       "      <td>0</td>\n",
       "      <td>0</td>\n",
       "      <td>0</td>\n",
       "      <td>0</td>\n",
       "      <td>0</td>\n",
       "      <td>0</td>\n",
       "      <td>0</td>\n",
       "    </tr>\n",
       "    <tr>\n",
       "      <th>106539</th>\n",
       "      <td>VIV</td>\n",
       "      <td>2017</td>\n",
       "      <td>9</td>\n",
       "      <td>6</td>\n",
       "      <td>20.080</td>\n",
       "      <td>20.210</td>\n",
       "      <td>20.015</td>\n",
       "      <td>20.115</td>\n",
       "      <td>2181925</td>\n",
       "      <td>-0.006463</td>\n",
       "      <td>...</td>\n",
       "      <td>0</td>\n",
       "      <td>0</td>\n",
       "      <td>0</td>\n",
       "      <td>0</td>\n",
       "      <td>0</td>\n",
       "      <td>0</td>\n",
       "      <td>0</td>\n",
       "      <td>0</td>\n",
       "      <td>0</td>\n",
       "      <td>0</td>\n",
       "    </tr>\n",
       "    <tr>\n",
       "      <th>106540</th>\n",
       "      <td>VIV</td>\n",
       "      <td>2017</td>\n",
       "      <td>9</td>\n",
       "      <td>7</td>\n",
       "      <td>20.185</td>\n",
       "      <td>20.185</td>\n",
       "      <td>19.920</td>\n",
       "      <td>19.985</td>\n",
       "      <td>4038684</td>\n",
       "      <td>-0.002252</td>\n",
       "      <td>...</td>\n",
       "      <td>0</td>\n",
       "      <td>0</td>\n",
       "      <td>0</td>\n",
       "      <td>0</td>\n",
       "      <td>0</td>\n",
       "      <td>0</td>\n",
       "      <td>0</td>\n",
       "      <td>0</td>\n",
       "      <td>0</td>\n",
       "      <td>0</td>\n",
       "    </tr>\n",
       "    <tr>\n",
       "      <th>106541</th>\n",
       "      <td>VIV</td>\n",
       "      <td>2017</td>\n",
       "      <td>9</td>\n",
       "      <td>8</td>\n",
       "      <td>19.865</td>\n",
       "      <td>20.025</td>\n",
       "      <td>19.820</td>\n",
       "      <td>19.940</td>\n",
       "      <td>1933282</td>\n",
       "      <td>0.024072</td>\n",
       "      <td>...</td>\n",
       "      <td>0</td>\n",
       "      <td>0</td>\n",
       "      <td>0</td>\n",
       "      <td>0</td>\n",
       "      <td>0</td>\n",
       "      <td>0</td>\n",
       "      <td>0</td>\n",
       "      <td>0</td>\n",
       "      <td>0</td>\n",
       "      <td>0</td>\n",
       "    </tr>\n",
       "  </tbody>\n",
       "</table>\n",
       "<p>106542 rows × 280 columns</p>\n",
       "</div>"
      ],
      "text/plain": [
       "       TICKER  annee  mois  jour      OP      UP      DO      CL       VO  \\\n",
       "0          AC   2007    10     1  50.820  52.450  50.720  52.440   939518   \n",
       "1          AC   2007    10    10  57.600  57.900  56.480  56.740  1167710   \n",
       "2          AC   2007    10    11  56.570  57.900  56.570  57.060   910369   \n",
       "3          AC   2007    10    12  57.100  57.100  55.500  56.760   996349   \n",
       "4          AC   2007    10    15  56.760  57.290  55.770  56.100   573647   \n",
       "...       ...    ...   ...   ...     ...     ...     ...     ...      ...   \n",
       "106537    VIV   2017     9     4  20.065  20.235  20.030  20.100  2250835   \n",
       "106538    VIV   2017     9     5  20.095  20.290  19.985  20.155  3095238   \n",
       "106539    VIV   2017     9     6  20.080  20.210  20.015  20.115  2181925   \n",
       "106540    VIV   2017     9     7  20.185  20.185  19.920  19.985  4038684   \n",
       "106541    VIV   2017     9     8  19.865  20.025  19.820  19.940  1933282   \n",
       "\n",
       "          RDMT_J  ...  strategique  transaction  actionnaires  coentreprise  \\\n",
       "0       0.045576  ...            0            0             0             0   \n",
       "1       0.005640  ...            0            0             0             0   \n",
       "2      -0.005258  ...            0            0             0             0   \n",
       "3      -0.011628  ...            0            0             0             0   \n",
       "4      -0.003209  ...            0            0             0             0   \n",
       "...          ...  ...          ...          ...           ...           ...   \n",
       "106537  0.002736  ...            0            0             0             0   \n",
       "106538 -0.001985  ...            0            0             0             0   \n",
       "106539 -0.006463  ...            0            0             0             0   \n",
       "106540 -0.002252  ...            0            0             0             0   \n",
       "106541  0.024072  ...            0            0             0             0   \n",
       "\n",
       "        construction  collaboration  developpement  l_acquisition  \\\n",
       "0                  0              0              0              0   \n",
       "1                  0              0              0              0   \n",
       "2                  0              0              0              0   \n",
       "3                  0              0              0              0   \n",
       "4                  0              0              0              0   \n",
       "...              ...            ...            ...            ...   \n",
       "106537             0              0              0              0   \n",
       "106538             0              0              0              0   \n",
       "106539             0              0              0              0   \n",
       "106540             0              0              0              0   \n",
       "106541             0              0              0              0   \n",
       "\n",
       "        participation  recommandation  \n",
       "0                   0               0  \n",
       "1                   0               0  \n",
       "2                   0               0  \n",
       "3                   0               0  \n",
       "4                   0               0  \n",
       "...               ...             ...  \n",
       "106537              0               0  \n",
       "106538              0               0  \n",
       "106539              0               0  \n",
       "106540              0               0  \n",
       "106541              0               0  \n",
       "\n",
       "[106542 rows x 280 columns]"
      ]
     },
     "execution_count": 3,
     "metadata": {},
     "output_type": "execute_result"
    }
   ],
   "source": [
    "data = pd.read_csv('data/cac40_v3.csv').drop('Unnamed: 0', axis=1)\n",
    "data"
   ]
  },
  {
   "cell_type": "markdown",
   "metadata": {},
   "source": [
    "# Filtration des données\n",
    "***"
   ]
  },
  {
   "cell_type": "code",
   "execution_count": 4,
   "metadata": {},
   "outputs": [],
   "source": [
    "variables_num_dep = [\"RDMT_J\", \"RDMT_S\", \"RDMT_M\"]\n",
    "variables_num_explic = [\"OP\", \"UP\", \"DO\", \"CL\", \"VO\"] + [f\"{var}_{x}\" for x in [\"J\", \"S\", \"M\"] for var in [\"HISTO\", \"VOL\", \"UP\", \"DO\"]]\n",
    "numeric_variables = variables_num_dep + variables_num_explic\n",
    "non_numeric_variables = data.columns[~data.columns.isin(numeric_variables)]\n",
    "words = non_numeric_variables[4:]\n",
    "descriptive_variables = non_numeric_variables[:4]"
   ]
  },
  {
   "cell_type": "markdown",
   "metadata": {},
   "source": [
    "### Question 3)"
   ]
  },
  {
   "cell_type": "markdown",
   "metadata": {},
   "source": [
    "Q : Montrer que, _quelque soit le ticker_, la liste des mots apparaissant sur 400 lignes et dont le rendement mensuel est en moyenne supérieur à 1% est telle que la table dans le sujet.  "
   ]
  },
  {
   "cell_type": "code",
   "execution_count": 5,
   "metadata": {},
   "outputs": [],
   "source": [
    "# On veut l'effet du mot, indépendamment de ticker\n",
    "freq_word_ret = {}\n",
    "for word in words:\n",
    "    if data[word].sum() > 400:\n",
    "        mean_return = np.mean(data[\"RDMT_M\"].loc[data[word] == 1])\n",
    "        num_app = data[word].sum()\n",
    "        if mean_return > 0.01:\n",
    "            freq_word_ret[word] = (num_app, mean_return)"
   ]
  },
  {
   "cell_type": "code",
   "execution_count": 6,
   "metadata": {},
   "outputs": [
    {
     "data": {
      "text/html": [
       "<div>\n",
       "<style scoped>\n",
       "    .dataframe tbody tr th:only-of-type {\n",
       "        vertical-align: middle;\n",
       "    }\n",
       "\n",
       "    .dataframe tbody tr th {\n",
       "        vertical-align: top;\n",
       "    }\n",
       "\n",
       "    .dataframe thead th {\n",
       "        text-align: right;\n",
       "    }\n",
       "</style>\n",
       "<table border=\"1\" class=\"dataframe\">\n",
       "  <thead>\n",
       "    <tr style=\"text-align: right;\">\n",
       "      <th></th>\n",
       "      <th>Nombre d'apparitions</th>\n",
       "      <th>Rendement mensuel moyen</th>\n",
       "    </tr>\n",
       "    <tr>\n",
       "      <th>Mot</th>\n",
       "      <th></th>\n",
       "      <th></th>\n",
       "    </tr>\n",
       "  </thead>\n",
       "  <tbody>\n",
       "    <tr>\n",
       "      <th>part</th>\n",
       "      <td>716</td>\n",
       "      <td>0.011925</td>\n",
       "    </tr>\n",
       "    <tr>\n",
       "      <th>plus</th>\n",
       "      <td>418</td>\n",
       "      <td>0.010119</td>\n",
       "    </tr>\n",
       "    <tr>\n",
       "      <th>pour</th>\n",
       "      <td>1966</td>\n",
       "      <td>0.013645</td>\n",
       "    </tr>\n",
       "    <tr>\n",
       "      <th>euros</th>\n",
       "      <td>446</td>\n",
       "      <td>0.010361</td>\n",
       "    </tr>\n",
       "    <tr>\n",
       "      <th>group</th>\n",
       "      <td>493</td>\n",
       "      <td>0.012940</td>\n",
       "    </tr>\n",
       "    <tr>\n",
       "      <th>passe</th>\n",
       "      <td>527</td>\n",
       "      <td>0.013763</td>\n",
       "    </tr>\n",
       "    <tr>\n",
       "      <th>titre</th>\n",
       "      <td>467</td>\n",
       "      <td>0.012178</td>\n",
       "    </tr>\n",
       "    <tr>\n",
       "      <th>groupe</th>\n",
       "      <td>467</td>\n",
       "      <td>0.014646</td>\n",
       "    </tr>\n",
       "    <tr>\n",
       "      <th>nouvel</th>\n",
       "      <td>494</td>\n",
       "      <td>0.011500</td>\n",
       "    </tr>\n",
       "    <tr>\n",
       "      <th>releve</th>\n",
       "      <td>413</td>\n",
       "      <td>0.010297</td>\n",
       "    </tr>\n",
       "    <tr>\n",
       "      <th>actions</th>\n",
       "      <td>607</td>\n",
       "      <td>0.010168</td>\n",
       "    </tr>\n",
       "    <tr>\n",
       "      <th>capital</th>\n",
       "      <td>761</td>\n",
       "      <td>0.011975</td>\n",
       "    </tr>\n",
       "    <tr>\n",
       "      <th>contrat</th>\n",
       "      <td>540</td>\n",
       "      <td>0.010577</td>\n",
       "    </tr>\n",
       "    <tr>\n",
       "      <th>nouveau</th>\n",
       "      <td>511</td>\n",
       "      <td>0.011895</td>\n",
       "    </tr>\n",
       "    <tr>\n",
       "      <th>capital.</th>\n",
       "      <td>751</td>\n",
       "      <td>0.011041</td>\n",
       "    </tr>\n",
       "    <tr>\n",
       "      <th>nouvelle</th>\n",
       "      <td>415</td>\n",
       "      <td>0.011975</td>\n",
       "    </tr>\n",
       "    <tr>\n",
       "      <th>objectif</th>\n",
       "      <td>636</td>\n",
       "      <td>0.014702</td>\n",
       "    </tr>\n",
       "    <tr>\n",
       "      <th>resultat</th>\n",
       "      <td>458</td>\n",
       "      <td>0.011162</td>\n",
       "    </tr>\n",
       "  </tbody>\n",
       "</table>\n",
       "</div>"
      ],
      "text/plain": [
       "          Nombre d'apparitions  Rendement mensuel moyen\n",
       "Mot                                                    \n",
       "part                       716                 0.011925\n",
       "plus                       418                 0.010119\n",
       "pour                      1966                 0.013645\n",
       "euros                      446                 0.010361\n",
       "group                      493                 0.012940\n",
       "passe                      527                 0.013763\n",
       "titre                      467                 0.012178\n",
       "groupe                     467                 0.014646\n",
       "nouvel                     494                 0.011500\n",
       "releve                     413                 0.010297\n",
       "actions                    607                 0.010168\n",
       "capital                    761                 0.011975\n",
       "contrat                    540                 0.010577\n",
       "nouveau                    511                 0.011895\n",
       "capital.                   751                 0.011041\n",
       "nouvelle                   415                 0.011975\n",
       "objectif                   636                 0.014702\n",
       "resultat                   458                 0.011162"
      ]
     },
     "execution_count": 6,
     "metadata": {},
     "output_type": "execute_result"
    }
   ],
   "source": [
    "df = pd.DataFrame(freq_word_ret).transpose().rename(axis='columns', mapper={0:\"Nombre d'apparitions\", 1:\"Rendement mensuel moyen\"})\n",
    "df[\"Nombre d'apparitions\"] = df[\"Nombre d'apparitions\"].astype('int64')\n",
    "df.index.name = \"Mot\"\n",
    "df"
   ]
  },
  {
   "cell_type": "markdown",
   "metadata": {},
   "source": [
    "<b>Filtrer la base sur l'apparition de ces mots</b>"
   ]
  },
  {
   "cell_type": "code",
   "execution_count": 7,
   "metadata": {},
   "outputs": [],
   "source": [
    "keepers = list(freq_word_ret.keys())\n",
    "data[\"KEEP_ROW\"] = data[keepers].sum(axis=1)\n",
    "data = data.loc[~(data[\"KEEP_ROW\"] == 0)].drop(\"KEEP_ROW\", axis=1).reset_index(drop=True)"
   ]
  },
  {
   "cell_type": "code",
   "execution_count": 8,
   "metadata": {},
   "outputs": [
    {
     "data": {
      "text/plain": [
       "(7129, 280)"
      ]
     },
     "execution_count": 8,
     "metadata": {},
     "output_type": "execute_result"
    }
   ],
   "source": [
    "data.shape"
   ]
  },
  {
   "cell_type": "markdown",
   "metadata": {},
   "source": [
    "### Question 4)"
   ]
  },
  {
   "cell_type": "markdown",
   "metadata": {},
   "source": [
    "Q : Retrait des variables trop corrélées (positivement ou négativement)."
   ]
  },
  {
   "cell_type": "code",
   "execution_count": 9,
   "metadata": {},
   "outputs": [],
   "source": [
    "CORRELATION_THRESHOLD = 0.75\n",
    "correlation_matrix = data.loc[:,~data.columns.isin([\"TICKER\", \"annee\", \"mois\", \"jour\"])].corr().abs()\n",
    "upper_triangle = correlation_matrix.where(np.triu(np.ones(correlation_matrix.shape), k=1).astype(np.bool))\n",
    "high_corr_vars = [col for col in upper_triangle.columns if any(upper_triangle[col] > CORRELATION_THRESHOLD)]"
   ]
  },
  {
   "cell_type": "code",
   "execution_count": 10,
   "metadata": {},
   "outputs": [
    {
     "data": {
      "text/html": [
       "<div>\n",
       "<style scoped>\n",
       "    .dataframe tbody tr th:only-of-type {\n",
       "        vertical-align: middle;\n",
       "    }\n",
       "\n",
       "    .dataframe tbody tr th {\n",
       "        vertical-align: top;\n",
       "    }\n",
       "\n",
       "    .dataframe thead th {\n",
       "        text-align: right;\n",
       "    }\n",
       "</style>\n",
       "<table border=\"1\" class=\"dataframe\">\n",
       "  <thead>\n",
       "    <tr style=\"text-align: right;\">\n",
       "      <th></th>\n",
       "      <th>TICKER</th>\n",
       "      <th>annee</th>\n",
       "      <th>mois</th>\n",
       "      <th>jour</th>\n",
       "      <th>OP</th>\n",
       "      <th>VO</th>\n",
       "      <th>RDMT_J</th>\n",
       "      <th>RDMT_S</th>\n",
       "      <th>RDMT_M</th>\n",
       "      <th>HISTO_J</th>\n",
       "      <th>...</th>\n",
       "      <th>strategique</th>\n",
       "      <th>transaction</th>\n",
       "      <th>actionnaires</th>\n",
       "      <th>coentreprise</th>\n",
       "      <th>construction</th>\n",
       "      <th>collaboration</th>\n",
       "      <th>developpement</th>\n",
       "      <th>l_acquisition</th>\n",
       "      <th>participation</th>\n",
       "      <th>recommandation</th>\n",
       "    </tr>\n",
       "  </thead>\n",
       "  <tbody>\n",
       "    <tr>\n",
       "      <th>0</th>\n",
       "      <td>AC</td>\n",
       "      <td>2010</td>\n",
       "      <td>10</td>\n",
       "      <td>11</td>\n",
       "      <td>27.370</td>\n",
       "      <td>583747</td>\n",
       "      <td>0.020663</td>\n",
       "      <td>0.065797</td>\n",
       "      <td>0.123255</td>\n",
       "      <td>0.009700</td>\n",
       "      <td>...</td>\n",
       "      <td>0</td>\n",
       "      <td>0</td>\n",
       "      <td>0</td>\n",
       "      <td>0</td>\n",
       "      <td>0</td>\n",
       "      <td>0</td>\n",
       "      <td>0</td>\n",
       "      <td>0</td>\n",
       "      <td>0</td>\n",
       "      <td>0</td>\n",
       "    </tr>\n",
       "    <tr>\n",
       "      <th>1</th>\n",
       "      <td>AC</td>\n",
       "      <td>2010</td>\n",
       "      <td>10</td>\n",
       "      <td>28</td>\n",
       "      <td>29.220</td>\n",
       "      <td>752703</td>\n",
       "      <td>0.011500</td>\n",
       "      <td>0.053896</td>\n",
       "      <td>0.117920</td>\n",
       "      <td>-0.003251</td>\n",
       "      <td>...</td>\n",
       "      <td>0</td>\n",
       "      <td>0</td>\n",
       "      <td>0</td>\n",
       "      <td>0</td>\n",
       "      <td>0</td>\n",
       "      <td>0</td>\n",
       "      <td>0</td>\n",
       "      <td>0</td>\n",
       "      <td>0</td>\n",
       "      <td>0</td>\n",
       "    </tr>\n",
       "    <tr>\n",
       "      <th>2</th>\n",
       "      <td>AC</td>\n",
       "      <td>2010</td>\n",
       "      <td>10</td>\n",
       "      <td>6</td>\n",
       "      <td>26.950</td>\n",
       "      <td>1747197</td>\n",
       "      <td>-0.022407</td>\n",
       "      <td>0.042645</td>\n",
       "      <td>0.132093</td>\n",
       "      <td>0.030540</td>\n",
       "      <td>...</td>\n",
       "      <td>0</td>\n",
       "      <td>0</td>\n",
       "      <td>0</td>\n",
       "      <td>0</td>\n",
       "      <td>0</td>\n",
       "      <td>0</td>\n",
       "      <td>0</td>\n",
       "      <td>0</td>\n",
       "      <td>0</td>\n",
       "      <td>0</td>\n",
       "    </tr>\n",
       "    <tr>\n",
       "      <th>3</th>\n",
       "      <td>AC</td>\n",
       "      <td>2010</td>\n",
       "      <td>11</td>\n",
       "      <td>26</td>\n",
       "      <td>33.415</td>\n",
       "      <td>871648</td>\n",
       "      <td>-0.022133</td>\n",
       "      <td>-0.012626</td>\n",
       "      <td>0.001485</td>\n",
       "      <td>0.001339</td>\n",
       "      <td>...</td>\n",
       "      <td>0</td>\n",
       "      <td>0</td>\n",
       "      <td>0</td>\n",
       "      <td>0</td>\n",
       "      <td>0</td>\n",
       "      <td>0</td>\n",
       "      <td>0</td>\n",
       "      <td>0</td>\n",
       "      <td>0</td>\n",
       "      <td>0</td>\n",
       "    </tr>\n",
       "    <tr>\n",
       "      <th>4</th>\n",
       "      <td>AC</td>\n",
       "      <td>2010</td>\n",
       "      <td>11</td>\n",
       "      <td>3</td>\n",
       "      <td>29.745</td>\n",
       "      <td>880633</td>\n",
       "      <td>0.029165</td>\n",
       "      <td>0.040898</td>\n",
       "      <td>0.126383</td>\n",
       "      <td>0.004715</td>\n",
       "      <td>...</td>\n",
       "      <td>0</td>\n",
       "      <td>0</td>\n",
       "      <td>0</td>\n",
       "      <td>0</td>\n",
       "      <td>0</td>\n",
       "      <td>0</td>\n",
       "      <td>0</td>\n",
       "      <td>0</td>\n",
       "      <td>0</td>\n",
       "      <td>0</td>\n",
       "    </tr>\n",
       "    <tr>\n",
       "      <th>...</th>\n",
       "      <td>...</td>\n",
       "      <td>...</td>\n",
       "      <td>...</td>\n",
       "      <td>...</td>\n",
       "      <td>...</td>\n",
       "      <td>...</td>\n",
       "      <td>...</td>\n",
       "      <td>...</td>\n",
       "      <td>...</td>\n",
       "      <td>...</td>\n",
       "      <td>...</td>\n",
       "      <td>...</td>\n",
       "      <td>...</td>\n",
       "      <td>...</td>\n",
       "      <td>...</td>\n",
       "      <td>...</td>\n",
       "      <td>...</td>\n",
       "      <td>...</td>\n",
       "      <td>...</td>\n",
       "      <td>...</td>\n",
       "      <td>...</td>\n",
       "    </tr>\n",
       "    <tr>\n",
       "      <th>7124</th>\n",
       "      <td>VIV</td>\n",
       "      <td>2017</td>\n",
       "      <td>9</td>\n",
       "      <td>20</td>\n",
       "      <td>21.075</td>\n",
       "      <td>2787945</td>\n",
       "      <td>-0.004282</td>\n",
       "      <td>-0.011180</td>\n",
       "      <td>-0.025690</td>\n",
       "      <td>-0.007085</td>\n",
       "      <td>...</td>\n",
       "      <td>0</td>\n",
       "      <td>0</td>\n",
       "      <td>0</td>\n",
       "      <td>0</td>\n",
       "      <td>0</td>\n",
       "      <td>0</td>\n",
       "      <td>0</td>\n",
       "      <td>0</td>\n",
       "      <td>0</td>\n",
       "      <td>0</td>\n",
       "    </tr>\n",
       "    <tr>\n",
       "      <th>7125</th>\n",
       "      <td>VIV</td>\n",
       "      <td>2017</td>\n",
       "      <td>9</td>\n",
       "      <td>25</td>\n",
       "      <td>20.710</td>\n",
       "      <td>2082640</td>\n",
       "      <td>-0.001445</td>\n",
       "      <td>0.037581</td>\n",
       "      <td>-0.002891</td>\n",
       "      <td>0.000482</td>\n",
       "      <td>...</td>\n",
       "      <td>0</td>\n",
       "      <td>0</td>\n",
       "      <td>0</td>\n",
       "      <td>0</td>\n",
       "      <td>0</td>\n",
       "      <td>0</td>\n",
       "      <td>0</td>\n",
       "      <td>0</td>\n",
       "      <td>0</td>\n",
       "      <td>0</td>\n",
       "    </tr>\n",
       "    <tr>\n",
       "      <th>7126</th>\n",
       "      <td>VIV</td>\n",
       "      <td>2017</td>\n",
       "      <td>9</td>\n",
       "      <td>26</td>\n",
       "      <td>20.765</td>\n",
       "      <td>1622952</td>\n",
       "      <td>0.002895</td>\n",
       "      <td>0.032569</td>\n",
       "      <td>-0.008203</td>\n",
       "      <td>-0.001445</td>\n",
       "      <td>...</td>\n",
       "      <td>0</td>\n",
       "      <td>0</td>\n",
       "      <td>0</td>\n",
       "      <td>0</td>\n",
       "      <td>0</td>\n",
       "      <td>0</td>\n",
       "      <td>0</td>\n",
       "      <td>0</td>\n",
       "      <td>0</td>\n",
       "      <td>0</td>\n",
       "    </tr>\n",
       "    <tr>\n",
       "      <th>7127</th>\n",
       "      <td>VIV</td>\n",
       "      <td>2017</td>\n",
       "      <td>9</td>\n",
       "      <td>29</td>\n",
       "      <td>21.060</td>\n",
       "      <td>6358735</td>\n",
       "      <td>0.005369</td>\n",
       "      <td>-0.012138</td>\n",
       "      <td>0.014006</td>\n",
       "      <td>0.029066</td>\n",
       "      <td>...</td>\n",
       "      <td>0</td>\n",
       "      <td>0</td>\n",
       "      <td>0</td>\n",
       "      <td>0</td>\n",
       "      <td>0</td>\n",
       "      <td>0</td>\n",
       "      <td>0</td>\n",
       "      <td>0</td>\n",
       "      <td>0</td>\n",
       "      <td>0</td>\n",
       "    </tr>\n",
       "    <tr>\n",
       "      <th>7128</th>\n",
       "      <td>VIV</td>\n",
       "      <td>2017</td>\n",
       "      <td>9</td>\n",
       "      <td>4</td>\n",
       "      <td>20.065</td>\n",
       "      <td>2250835</td>\n",
       "      <td>0.002736</td>\n",
       "      <td>0.015920</td>\n",
       "      <td>0.050249</td>\n",
       "      <td>-0.008876</td>\n",
       "      <td>...</td>\n",
       "      <td>0</td>\n",
       "      <td>0</td>\n",
       "      <td>0</td>\n",
       "      <td>0</td>\n",
       "      <td>0</td>\n",
       "      <td>0</td>\n",
       "      <td>0</td>\n",
       "      <td>0</td>\n",
       "      <td>0</td>\n",
       "      <td>0</td>\n",
       "    </tr>\n",
       "  </tbody>\n",
       "</table>\n",
       "<p>7129 rows × 247 columns</p>\n",
       "</div>"
      ],
      "text/plain": [
       "     TICKER  annee  mois  jour      OP       VO    RDMT_J    RDMT_S    RDMT_M  \\\n",
       "0        AC   2010    10    11  27.370   583747  0.020663  0.065797  0.123255   \n",
       "1        AC   2010    10    28  29.220   752703  0.011500  0.053896  0.117920   \n",
       "2        AC   2010    10     6  26.950  1747197 -0.022407  0.042645  0.132093   \n",
       "3        AC   2010    11    26  33.415   871648 -0.022133 -0.012626  0.001485   \n",
       "4        AC   2010    11     3  29.745   880633  0.029165  0.040898  0.126383   \n",
       "...     ...    ...   ...   ...     ...      ...       ...       ...       ...   \n",
       "7124    VIV   2017     9    20  21.075  2787945 -0.004282 -0.011180 -0.025690   \n",
       "7125    VIV   2017     9    25  20.710  2082640 -0.001445  0.037581 -0.002891   \n",
       "7126    VIV   2017     9    26  20.765  1622952  0.002895  0.032569 -0.008203   \n",
       "7127    VIV   2017     9    29  21.060  6358735  0.005369 -0.012138  0.014006   \n",
       "7128    VIV   2017     9     4  20.065  2250835  0.002736  0.015920  0.050249   \n",
       "\n",
       "       HISTO_J  ...  strategique  transaction  actionnaires  coentreprise  \\\n",
       "0     0.009700  ...            0            0             0             0   \n",
       "1    -0.003251  ...            0            0             0             0   \n",
       "2     0.030540  ...            0            0             0             0   \n",
       "3     0.001339  ...            0            0             0             0   \n",
       "4     0.004715  ...            0            0             0             0   \n",
       "...        ...  ...          ...          ...           ...           ...   \n",
       "7124 -0.007085  ...            0            0             0             0   \n",
       "7125  0.000482  ...            0            0             0             0   \n",
       "7126 -0.001445  ...            0            0             0             0   \n",
       "7127  0.029066  ...            0            0             0             0   \n",
       "7128 -0.008876  ...            0            0             0             0   \n",
       "\n",
       "      construction  collaboration  developpement  l_acquisition  \\\n",
       "0                0              0              0              0   \n",
       "1                0              0              0              0   \n",
       "2                0              0              0              0   \n",
       "3                0              0              0              0   \n",
       "4                0              0              0              0   \n",
       "...            ...            ...            ...            ...   \n",
       "7124             0              0              0              0   \n",
       "7125             0              0              0              0   \n",
       "7126             0              0              0              0   \n",
       "7127             0              0              0              0   \n",
       "7128             0              0              0              0   \n",
       "\n",
       "      participation  recommandation  \n",
       "0                 0               0  \n",
       "1                 0               0  \n",
       "2                 0               0  \n",
       "3                 0               0  \n",
       "4                 0               0  \n",
       "...             ...             ...  \n",
       "7124              0               0  \n",
       "7125              0               0  \n",
       "7126              0               0  \n",
       "7127              0               0  \n",
       "7128              0               0  \n",
       "\n",
       "[7129 rows x 247 columns]"
      ]
     },
     "execution_count": 10,
     "metadata": {},
     "output_type": "execute_result"
    }
   ],
   "source": [
    "data.drop(high_corr_vars, axis=1, inplace=True)\n",
    "data"
   ]
  },
  {
   "cell_type": "markdown",
   "metadata": {},
   "source": [
    "### Question 5)"
   ]
  },
  {
   "cell_type": "markdown",
   "metadata": {},
   "source": [
    "Q : Choisir un algorithme parmi les suivants :\n",
    "- XGBoost <b>X</b>\n",
    "- GradientBoostingClassifier\n",
    "- neural_network.MLPClassifier"
   ]
  },
  {
   "cell_type": "markdown",
   "metadata": {},
   "source": [
    "**_Qu'est-ce que l'algorithme XGBoost?_**\n",
    "\n",
    "_XGBoost_, de son nom _Extreme Gradient Boosting_ est un algorithme construit pour optimiser l'algorithme _Gradient Boosting_, qui est lui-même une variante du _Random Forest_. GB fait des prédicitions grâce à un ensemble d'arbres de décision qui \"votent\" pour la prédiction finale. Au différent de _Random Forest_, la construction même de l'ensemble d'arbres est faite de manière séquentielle de sorte à minimiser la fonction objectif par déscente de gradients.\n",
    "_XGBoost_ cherche à optimiser l'implémentation de GB, notamment en parallélisant la construction des arbres et en optimisant l'utilisation de resources physiques disponibles."
   ]
  },
  {
   "cell_type": "markdown",
   "metadata": {},
   "source": [
    "### Question 6)"
   ]
  },
  {
   "cell_type": "markdown",
   "metadata": {},
   "source": [
    "Q : Analyser les hyperparamètres et assurer un grid computing d'environ 100 n-uplets de paramètres. Une cross-validation de 4 folds est souhaitée."
   ]
  },
  {
   "cell_type": "markdown",
   "metadata": {},
   "source": [
    "D'après la [documentation officielle](https://xgboost.readthedocs.io/en/latest/parameter.html) de XGBoost il y a trois types de paramètres qui vont nous concerner dans cette étude.\n",
    "> 1. **Paramètres Géneraux**: paramètres liés au choix de technique de boosting (avec modèle linéaire ou arbre de décisions)\n",
    "> 2. **Paramètres de \"booster\"**: paramètres du booster choisi &rarr; concernent le _Bias-Variance tradeoff_\n",
    ">> - learning_rate \\[défault = 0.3] : contrôle le poids des features utilisées pour rendre l'algo plus conservateur (réduire possibilité d'overfit).\n",
    ">> - min_child_weight \\[defaut = 1] : définit le poids minimal d'un noeud enfant pour qu'il soit créé. Contrôle l'importance des relation à apprendre et donc l'overfitting.\n",
    ">> - max_depth \\[défaut = 6] : la profondeur maximale de chaque arbre créé. Contrôle contre l'overfit.\n",
    ">> - gamma \\[défaut = 0] : valeur minimale d'amélioration de l'objectif requise par l'algorithme pour continuer la création d'un noeud enfant dans un arbre. Contrôle l'overfit.\n",
    "> 3. **Paramètres d'apprentissage**: paramètres liés à la tâche entreprise (i.e. qu'est-ce qu'on apprend ? comment ?)\n",
    ">> - objective : fonction objectif d'apprentissage\n",
    "\n",
    "avec : \n",
    "- _Bias_ : L'erreur moyenne de l'algo dans un unique jeu de données (fit)\n",
    "- _Variance_ : La variation des erreurs de l'algo entre plusieurs jeux de données (généralisation)\n",
    "\n",
    "voire aussi :\n",
    "- [Complete Guide to Parameter Tuning in XGBoost with codes in Python](https://www.analyticsvidhya.com/blog/2016/03/complete-guide-parameter-tuning-xgboost-with-codes-python/)"
   ]
  },
  {
   "cell_type": "markdown",
   "metadata": {},
   "source": [
    "## HYPER PARAMETER TUNING"
   ]
  },
  {
   "cell_type": "code",
   "execution_count": 11,
   "metadata": {},
   "outputs": [],
   "source": [
    "from helper_functions import mean_encode\n",
    "\n",
    "LABEL = \"RDMT_M\"\n",
    "\n",
    "X = data.loc[:,~data.columns.isin(variables_num_dep)].copy()\n",
    "y = data[LABEL].copy()\n",
    "y_label = pd.DataFrame({'y':[1 if v > 0 else -1 for v in y]})\n",
    "#y_label = y_label.y\n",
    "y_label.name = \"LABEL\""
   ]
  },
  {
   "cell_type": "code",
   "execution_count": 12,
   "metadata": {},
   "outputs": [],
   "source": [
    "# define folds for cross validation\n",
    "X_train, X_test, y_train, y_test = train_test_split(X, y_label, test_size=0.2, random_state=42)"
   ]
  },
  {
   "cell_type": "code",
   "execution_count": 13,
   "metadata": {},
   "outputs": [
    {
     "name": "stderr",
     "output_type": "stream",
     "text": [
      "/Users/Cisco/anaconda3/envs/MachineLearning/lib/python3.8/site-packages/pandas/core/indexing.py:966: SettingWithCopyWarning: \n",
      "A value is trying to be set on a copy of a slice from a DataFrame.\n",
      "Try using .loc[row_indexer,col_indexer] = value instead\n",
      "\n",
      "See the caveats in the documentation: https://pandas.pydata.org/pandas-docs/stable/user_guide/indexing.html#returning-a-view-versus-a-copy\n",
      "  self.obj[item] = s\n"
     ]
    }
   ],
   "source": [
    "# Fit the encoder on the training data to avoid leakage and encode tickers\n",
    "ticker_encoder = mean_encode(X_train, y_train, \"TICKER\")\n",
    "X_train.loc[:,\"TICKER\"] = X_train[\"TICKER\"].apply(lambda x: ticker_encoder[x])\n",
    "X_test.loc[:, \"TICKER\"] = X_test[\"TICKER\"].apply(lambda x: ticker_encoder[x])"
   ]
  },
  {
   "cell_type": "code",
   "execution_count": 14,
   "metadata": {},
   "outputs": [
    {
     "data": {
      "text/html": [
       "<div>\n",
       "<style scoped>\n",
       "    .dataframe tbody tr th:only-of-type {\n",
       "        vertical-align: middle;\n",
       "    }\n",
       "\n",
       "    .dataframe tbody tr th {\n",
       "        vertical-align: top;\n",
       "    }\n",
       "\n",
       "    .dataframe thead th {\n",
       "        text-align: right;\n",
       "    }\n",
       "</style>\n",
       "<table border=\"1\" class=\"dataframe\">\n",
       "  <thead>\n",
       "    <tr style=\"text-align: right;\">\n",
       "      <th></th>\n",
       "      <th>TICKER</th>\n",
       "      <th>annee</th>\n",
       "      <th>mois</th>\n",
       "      <th>jour</th>\n",
       "      <th>OP</th>\n",
       "      <th>VO</th>\n",
       "      <th>HISTO_J</th>\n",
       "      <th>HISTO_S</th>\n",
       "      <th>HISTO_M</th>\n",
       "      <th>VOL_J</th>\n",
       "      <th>...</th>\n",
       "      <th>strategique</th>\n",
       "      <th>transaction</th>\n",
       "      <th>actionnaires</th>\n",
       "      <th>coentreprise</th>\n",
       "      <th>construction</th>\n",
       "      <th>collaboration</th>\n",
       "      <th>developpement</th>\n",
       "      <th>l_acquisition</th>\n",
       "      <th>participation</th>\n",
       "      <th>recommandation</th>\n",
       "    </tr>\n",
       "  </thead>\n",
       "  <tbody>\n",
       "    <tr>\n",
       "      <th>6078</th>\n",
       "      <td>0.157025</td>\n",
       "      <td>2013</td>\n",
       "      <td>11</td>\n",
       "      <td>21</td>\n",
       "      <td>5.8890</td>\n",
       "      <td>5055329</td>\n",
       "      <td>-0.014240</td>\n",
       "      <td>0.062683</td>\n",
       "      <td>-0.087414</td>\n",
       "      <td>-0.121496</td>\n",
       "      <td>...</td>\n",
       "      <td>0</td>\n",
       "      <td>0</td>\n",
       "      <td>0</td>\n",
       "      <td>0</td>\n",
       "      <td>0</td>\n",
       "      <td>0</td>\n",
       "      <td>0</td>\n",
       "      <td>0</td>\n",
       "      <td>0</td>\n",
       "      <td>0</td>\n",
       "    </tr>\n",
       "    <tr>\n",
       "      <th>420</th>\n",
       "      <td>0.162500</td>\n",
       "      <td>2012</td>\n",
       "      <td>5</td>\n",
       "      <td>31</td>\n",
       "      <td>72.9752</td>\n",
       "      <td>1832219</td>\n",
       "      <td>0.014404</td>\n",
       "      <td>0.020952</td>\n",
       "      <td>-0.007522</td>\n",
       "      <td>0.373564</td>\n",
       "      <td>...</td>\n",
       "      <td>0</td>\n",
       "      <td>0</td>\n",
       "      <td>0</td>\n",
       "      <td>0</td>\n",
       "      <td>0</td>\n",
       "      <td>0</td>\n",
       "      <td>0</td>\n",
       "      <td>0</td>\n",
       "      <td>0</td>\n",
       "      <td>0</td>\n",
       "    </tr>\n",
       "    <tr>\n",
       "      <th>6245</th>\n",
       "      <td>0.169231</td>\n",
       "      <td>2014</td>\n",
       "      <td>12</td>\n",
       "      <td>11</td>\n",
       "      <td>61.0100</td>\n",
       "      <td>1605075</td>\n",
       "      <td>0.008680</td>\n",
       "      <td>-0.028702</td>\n",
       "      <td>-0.018799</td>\n",
       "      <td>-0.132576</td>\n",
       "      <td>...</td>\n",
       "      <td>0</td>\n",
       "      <td>0</td>\n",
       "      <td>0</td>\n",
       "      <td>0</td>\n",
       "      <td>0</td>\n",
       "      <td>0</td>\n",
       "      <td>0</td>\n",
       "      <td>0</td>\n",
       "      <td>0</td>\n",
       "      <td>0</td>\n",
       "    </tr>\n",
       "    <tr>\n",
       "      <th>553</th>\n",
       "      <td>0.162500</td>\n",
       "      <td>2017</td>\n",
       "      <td>6</td>\n",
       "      <td>12</td>\n",
       "      <td>99.8182</td>\n",
       "      <td>736467</td>\n",
       "      <td>-0.005920</td>\n",
       "      <td>-0.011770</td>\n",
       "      <td>-0.037054</td>\n",
       "      <td>-0.044647</td>\n",
       "      <td>...</td>\n",
       "      <td>0</td>\n",
       "      <td>0</td>\n",
       "      <td>0</td>\n",
       "      <td>0</td>\n",
       "      <td>0</td>\n",
       "      <td>0</td>\n",
       "      <td>0</td>\n",
       "      <td>0</td>\n",
       "      <td>1</td>\n",
       "      <td>0</td>\n",
       "    </tr>\n",
       "    <tr>\n",
       "      <th>1397</th>\n",
       "      <td>0.023810</td>\n",
       "      <td>2015</td>\n",
       "      <td>4</td>\n",
       "      <td>14</td>\n",
       "      <td>32.7000</td>\n",
       "      <td>2033524</td>\n",
       "      <td>-0.005498</td>\n",
       "      <td>0.030706</td>\n",
       "      <td>0.060068</td>\n",
       "      <td>-0.124818</td>\n",
       "      <td>...</td>\n",
       "      <td>0</td>\n",
       "      <td>0</td>\n",
       "      <td>0</td>\n",
       "      <td>0</td>\n",
       "      <td>0</td>\n",
       "      <td>0</td>\n",
       "      <td>0</td>\n",
       "      <td>0</td>\n",
       "      <td>0</td>\n",
       "      <td>0</td>\n",
       "    </tr>\n",
       "    <tr>\n",
       "      <th>...</th>\n",
       "      <td>...</td>\n",
       "      <td>...</td>\n",
       "      <td>...</td>\n",
       "      <td>...</td>\n",
       "      <td>...</td>\n",
       "      <td>...</td>\n",
       "      <td>...</td>\n",
       "      <td>...</td>\n",
       "      <td>...</td>\n",
       "      <td>...</td>\n",
       "      <td>...</td>\n",
       "      <td>...</td>\n",
       "      <td>...</td>\n",
       "      <td>...</td>\n",
       "      <td>...</td>\n",
       "      <td>...</td>\n",
       "      <td>...</td>\n",
       "      <td>...</td>\n",
       "      <td>...</td>\n",
       "      <td>...</td>\n",
       "      <td>...</td>\n",
       "    </tr>\n",
       "    <tr>\n",
       "      <th>3772</th>\n",
       "      <td>0.055556</td>\n",
       "      <td>2016</td>\n",
       "      <td>2</td>\n",
       "      <td>17</td>\n",
       "      <td>33.1800</td>\n",
       "      <td>462741</td>\n",
       "      <td>0.057707</td>\n",
       "      <td>0.061252</td>\n",
       "      <td>-0.099198</td>\n",
       "      <td>0.530426</td>\n",
       "      <td>...</td>\n",
       "      <td>0</td>\n",
       "      <td>0</td>\n",
       "      <td>0</td>\n",
       "      <td>0</td>\n",
       "      <td>0</td>\n",
       "      <td>0</td>\n",
       "      <td>0</td>\n",
       "      <td>0</td>\n",
       "      <td>0</td>\n",
       "      <td>0</td>\n",
       "    </tr>\n",
       "    <tr>\n",
       "      <th>5191</th>\n",
       "      <td>0.078788</td>\n",
       "      <td>2014</td>\n",
       "      <td>7</td>\n",
       "      <td>2</td>\n",
       "      <td>69.2500</td>\n",
       "      <td>789727</td>\n",
       "      <td>0.007386</td>\n",
       "      <td>0.044131</td>\n",
       "      <td>0.009872</td>\n",
       "      <td>-0.427974</td>\n",
       "      <td>...</td>\n",
       "      <td>0</td>\n",
       "      <td>0</td>\n",
       "      <td>0</td>\n",
       "      <td>0</td>\n",
       "      <td>0</td>\n",
       "      <td>0</td>\n",
       "      <td>0</td>\n",
       "      <td>0</td>\n",
       "      <td>0</td>\n",
       "      <td>0</td>\n",
       "    </tr>\n",
       "    <tr>\n",
       "      <th>5226</th>\n",
       "      <td>0.078788</td>\n",
       "      <td>2015</td>\n",
       "      <td>4</td>\n",
       "      <td>27</td>\n",
       "      <td>97.5500</td>\n",
       "      <td>1283549</td>\n",
       "      <td>-0.000412</td>\n",
       "      <td>0.069429</td>\n",
       "      <td>0.168171</td>\n",
       "      <td>-0.346921</td>\n",
       "      <td>...</td>\n",
       "      <td>0</td>\n",
       "      <td>0</td>\n",
       "      <td>0</td>\n",
       "      <td>0</td>\n",
       "      <td>0</td>\n",
       "      <td>0</td>\n",
       "      <td>0</td>\n",
       "      <td>0</td>\n",
       "      <td>0</td>\n",
       "      <td>0</td>\n",
       "    </tr>\n",
       "    <tr>\n",
       "      <th>5390</th>\n",
       "      <td>0.363184</td>\n",
       "      <td>2013</td>\n",
       "      <td>3</td>\n",
       "      <td>25</td>\n",
       "      <td>36.0900</td>\n",
       "      <td>745321</td>\n",
       "      <td>-0.007704</td>\n",
       "      <td>-0.029589</td>\n",
       "      <td>0.041765</td>\n",
       "      <td>-0.028484</td>\n",
       "      <td>...</td>\n",
       "      <td>0</td>\n",
       "      <td>0</td>\n",
       "      <td>0</td>\n",
       "      <td>0</td>\n",
       "      <td>0</td>\n",
       "      <td>0</td>\n",
       "      <td>0</td>\n",
       "      <td>0</td>\n",
       "      <td>0</td>\n",
       "      <td>0</td>\n",
       "    </tr>\n",
       "    <tr>\n",
       "      <th>860</th>\n",
       "      <td>0.246377</td>\n",
       "      <td>2014</td>\n",
       "      <td>12</td>\n",
       "      <td>1</td>\n",
       "      <td>56.9900</td>\n",
       "      <td>130357</td>\n",
       "      <td>0.001750</td>\n",
       "      <td>-0.001222</td>\n",
       "      <td>0.062175</td>\n",
       "      <td>-0.481315</td>\n",
       "      <td>...</td>\n",
       "      <td>0</td>\n",
       "      <td>0</td>\n",
       "      <td>0</td>\n",
       "      <td>0</td>\n",
       "      <td>0</td>\n",
       "      <td>0</td>\n",
       "      <td>0</td>\n",
       "      <td>0</td>\n",
       "      <td>0</td>\n",
       "      <td>0</td>\n",
       "    </tr>\n",
       "  </tbody>\n",
       "</table>\n",
       "<p>5703 rows × 244 columns</p>\n",
       "</div>"
      ],
      "text/plain": [
       "        TICKER  annee  mois  jour       OP       VO   HISTO_J   HISTO_S  \\\n",
       "6078  0.157025   2013    11    21   5.8890  5055329 -0.014240  0.062683   \n",
       "420   0.162500   2012     5    31  72.9752  1832219  0.014404  0.020952   \n",
       "6245  0.169231   2014    12    11  61.0100  1605075  0.008680 -0.028702   \n",
       "553   0.162500   2017     6    12  99.8182   736467 -0.005920 -0.011770   \n",
       "1397  0.023810   2015     4    14  32.7000  2033524 -0.005498  0.030706   \n",
       "...        ...    ...   ...   ...      ...      ...       ...       ...   \n",
       "3772  0.055556   2016     2    17  33.1800   462741  0.057707  0.061252   \n",
       "5191  0.078788   2014     7     2  69.2500   789727  0.007386  0.044131   \n",
       "5226  0.078788   2015     4    27  97.5500  1283549 -0.000412  0.069429   \n",
       "5390  0.363184   2013     3    25  36.0900   745321 -0.007704 -0.029589   \n",
       "860   0.246377   2014    12     1  56.9900   130357  0.001750 -0.001222   \n",
       "\n",
       "       HISTO_M     VOL_J  ...  strategique  transaction  actionnaires  \\\n",
       "6078 -0.087414 -0.121496  ...            0            0             0   \n",
       "420  -0.007522  0.373564  ...            0            0             0   \n",
       "6245 -0.018799 -0.132576  ...            0            0             0   \n",
       "553  -0.037054 -0.044647  ...            0            0             0   \n",
       "1397  0.060068 -0.124818  ...            0            0             0   \n",
       "...        ...       ...  ...          ...          ...           ...   \n",
       "3772 -0.099198  0.530426  ...            0            0             0   \n",
       "5191  0.009872 -0.427974  ...            0            0             0   \n",
       "5226  0.168171 -0.346921  ...            0            0             0   \n",
       "5390  0.041765 -0.028484  ...            0            0             0   \n",
       "860   0.062175 -0.481315  ...            0            0             0   \n",
       "\n",
       "      coentreprise  construction  collaboration  developpement  l_acquisition  \\\n",
       "6078             0             0              0              0              0   \n",
       "420              0             0              0              0              0   \n",
       "6245             0             0              0              0              0   \n",
       "553              0             0              0              0              0   \n",
       "1397             0             0              0              0              0   \n",
       "...            ...           ...            ...            ...            ...   \n",
       "3772             0             0              0              0              0   \n",
       "5191             0             0              0              0              0   \n",
       "5226             0             0              0              0              0   \n",
       "5390             0             0              0              0              0   \n",
       "860              0             0              0              0              0   \n",
       "\n",
       "      participation  recommandation  \n",
       "6078              0               0  \n",
       "420               0               0  \n",
       "6245              0               0  \n",
       "553               1               0  \n",
       "1397              0               0  \n",
       "...             ...             ...  \n",
       "3772              0               0  \n",
       "5191              0               0  \n",
       "5226              0               0  \n",
       "5390              0               0  \n",
       "860               0               0  \n",
       "\n",
       "[5703 rows x 244 columns]"
      ]
     },
     "execution_count": 14,
     "metadata": {},
     "output_type": "execute_result"
    }
   ],
   "source": [
    "X_train"
   ]
  },
  {
   "cell_type": "code",
   "execution_count": 15,
   "metadata": {},
   "outputs": [],
   "source": [
    "# define parameter bounds and compute parameter grid\n",
    "hyper_learning_rate = np.logspace(-4,0,5)\n",
    "hyper_max_depth = np.linspace(3,10,5).astype('int64')\n",
    "#hyper_min_child_weight = np.linspace(1,3,5).astype('int64') --> Doesn't seem to influence AUC\n",
    "hyper_n_estimators = [50, 100, 200]\n",
    "#hyper_gamma = np.linspace(0,2,5) Doesn't seem to influence AUC\n",
    "hyper_subsample = [0.2, 0.4, 0.6, 0.8, 1]\n",
    "\n",
    "\n",
    "hyper_parameter_list = [hyper_learning_rate, hyper_max_depth, \n",
    "                        hyper_n_estimators, hyper_subsample]\n",
    "hyper_parameter_grid = list(itertools.product(*hyper_parameter_list))"
   ]
  },
  {
   "cell_type": "code",
   "execution_count": 16,
   "metadata": {},
   "outputs": [
    {
     "data": {
      "text/plain": [
       "375"
      ]
     },
     "execution_count": 16,
     "metadata": {},
     "output_type": "execute_result"
    }
   ],
   "source": [
    "len(hyper_parameter_grid)"
   ]
  },
  {
   "cell_type": "code",
   "execution_count": 17,
   "metadata": {},
   "outputs": [
    {
     "data": {
      "text/plain": [
       "'from exploratory_notebooks.helper_functions import tune_XGB_hyper_params\\n\\nresults = tune_XGB_hyper_params(hyper_parameter_grid, X_train, y_train.y)'"
      ]
     },
     "execution_count": 17,
     "metadata": {},
     "output_type": "execute_result"
    }
   ],
   "source": [
    "'''from exploratory_notebooks.helper_functions import tune_XGB_hyper_params\n",
    "\n",
    "results = tune_XGB_hyper_params(hyper_parameter_grid, X_train, y_train.y)'''"
   ]
  },
  {
   "cell_type": "code",
   "execution_count": 18,
   "metadata": {},
   "outputs": [],
   "source": [
    "# #############################\n",
    "# GET RESULTS FROM CACHE\n",
    "# ############################"
   ]
  },
  {
   "cell_type": "code",
   "execution_count": 19,
   "metadata": {},
   "outputs": [],
   "source": [
    "'''tuning_results = open(\"results/hyper_param_tuning_results.pickle\", \"wb\")\n",
    "pickle.dump(results, tuning_results)\n",
    "tuning_results.close()'''\n",
    "\n",
    "with open(\"results/hyper_param_tuning_results.pickle\", 'rb') as file:\n",
    "    results = pickle.load(file)"
   ]
  },
  {
   "cell_type": "code",
   "execution_count": 20,
   "metadata": {},
   "outputs": [],
   "source": [
    "from helper_functions import plot_tuning_results"
   ]
  },
  {
   "cell_type": "code",
   "execution_count": 21,
   "metadata": {},
   "outputs": [
    {
     "data": {
      "image/png": "[encoded data removed]",
      "text/plain": [
       "<Figure size 1080x360 with 3 Axes>"
      ]
     },
     "metadata": {
      "needs_background": "light"
     },
     "output_type": "display_data"
    }
   ],
   "source": [
    "plot_tuning_results(results, 'learning_rate')"
   ]
  },
  {
   "cell_type": "code",
   "execution_count": 22,
   "metadata": {},
   "outputs": [
    {
     "data": {
      "image/png": "[encoded data removed]",
      "text/plain": [
       "<Figure size 1080x360 with 3 Axes>"
      ]
     },
     "metadata": {
      "needs_background": "light"
     },
     "output_type": "display_data"
    }
   ],
   "source": [
    "plot_tuning_results(results, 'max_depth')"
   ]
  },
  {
   "cell_type": "code",
   "execution_count": 23,
   "metadata": {},
   "outputs": [
    {
     "ename": "KeyError",
     "evalue": "'n_estimators'",
     "output_type": "error",
     "traceback": [
      "\u001b[0;31m---------------------------------------------------------------------------\u001b[0m",
      "\u001b[0;31mKeyError\u001b[0m                                  Traceback (most recent call last)",
      "\u001b[0;32m<ipython-input-23-12a57e254b25>\u001b[0m in \u001b[0;36m<module>\u001b[0;34m\u001b[0m\n\u001b[0;32m----> 1\u001b[0;31m \u001b[0mplot_tuning_results\u001b[0m\u001b[0;34m(\u001b[0m\u001b[0mresults\u001b[0m\u001b[0;34m,\u001b[0m \u001b[0;34m'n_estimators'\u001b[0m\u001b[0;34m)\u001b[0m\u001b[0;34m\u001b[0m\u001b[0;34m\u001b[0m\u001b[0m\n\u001b[0m",
      "\u001b[0;32m~/Desktop/Master_Dauphine/M2_IEF/cours/semestre2/MachineLearning/projet/exploratory_notebooks/helper_functions.py\u001b[0m in \u001b[0;36mplot_tuning_results\u001b[0;34m(results, param_name)\u001b[0m\n\u001b[1;32m    153\u001b[0m     \u001b[0mprecision\u001b[0m \u001b[0;34m=\u001b[0m \u001b[0;34m[\u001b[0m\u001b[0mres\u001b[0m\u001b[0;34m[\u001b[0m\u001b[0;34m'metriques'\u001b[0m\u001b[0;34m]\u001b[0m\u001b[0;34m[\u001b[0m\u001b[0;34m'precision'\u001b[0m\u001b[0;34m]\u001b[0m \u001b[0;32mfor\u001b[0m \u001b[0mres\u001b[0m \u001b[0;32min\u001b[0m \u001b[0mresults\u001b[0m\u001b[0;34m]\u001b[0m\u001b[0;34m\u001b[0m\u001b[0;34m\u001b[0m\u001b[0m\n\u001b[1;32m    154\u001b[0m     \u001b[0mrecall\u001b[0m \u001b[0;34m=\u001b[0m \u001b[0;34m[\u001b[0m\u001b[0mres\u001b[0m\u001b[0;34m[\u001b[0m\u001b[0;34m'metriques'\u001b[0m\u001b[0;34m]\u001b[0m\u001b[0;34m[\u001b[0m\u001b[0;34m'recall'\u001b[0m\u001b[0;34m]\u001b[0m \u001b[0;32mfor\u001b[0m \u001b[0mres\u001b[0m \u001b[0;32min\u001b[0m \u001b[0mresults\u001b[0m\u001b[0;34m]\u001b[0m\u001b[0;34m\u001b[0m\u001b[0;34m\u001b[0m\u001b[0m\n\u001b[0;32m--> 155\u001b[0;31m     \u001b[0mparam\u001b[0m \u001b[0;34m=\u001b[0m \u001b[0;34m[\u001b[0m\u001b[0mres\u001b[0m\u001b[0;34m[\u001b[0m\u001b[0;34m'parametres'\u001b[0m\u001b[0;34m]\u001b[0m\u001b[0;34m[\u001b[0m\u001b[0mparam_name\u001b[0m\u001b[0;34m]\u001b[0m \u001b[0;32mfor\u001b[0m \u001b[0mres\u001b[0m \u001b[0;32min\u001b[0m \u001b[0mresults\u001b[0m\u001b[0;34m]\u001b[0m\u001b[0;34m\u001b[0m\u001b[0;34m\u001b[0m\u001b[0m\n\u001b[0m\u001b[1;32m    156\u001b[0m \u001b[0;34m\u001b[0m\u001b[0m\n\u001b[1;32m    157\u001b[0m     \u001b[0mfig\u001b[0m\u001b[0;34m,\u001b[0m \u001b[0max\u001b[0m \u001b[0;34m=\u001b[0m \u001b[0mplt\u001b[0m\u001b[0;34m.\u001b[0m\u001b[0msubplots\u001b[0m\u001b[0;34m(\u001b[0m\u001b[0;36m1\u001b[0m\u001b[0;34m,\u001b[0m\u001b[0;36m3\u001b[0m\u001b[0;34m,\u001b[0m \u001b[0mfigsize\u001b[0m\u001b[0;34m=\u001b[0m\u001b[0;34m(\u001b[0m\u001b[0;36m15\u001b[0m\u001b[0;34m,\u001b[0m\u001b[0;36m5\u001b[0m\u001b[0;34m)\u001b[0m\u001b[0;34m)\u001b[0m\u001b[0;34m\u001b[0m\u001b[0;34m\u001b[0m\u001b[0m\n",
      "\u001b[0;32m~/Desktop/Master_Dauphine/M2_IEF/cours/semestre2/MachineLearning/projet/exploratory_notebooks/helper_functions.py\u001b[0m in \u001b[0;36m<listcomp>\u001b[0;34m(.0)\u001b[0m\n\u001b[1;32m    153\u001b[0m     \u001b[0mprecision\u001b[0m \u001b[0;34m=\u001b[0m \u001b[0;34m[\u001b[0m\u001b[0mres\u001b[0m\u001b[0;34m[\u001b[0m\u001b[0;34m'metriques'\u001b[0m\u001b[0;34m]\u001b[0m\u001b[0;34m[\u001b[0m\u001b[0;34m'precision'\u001b[0m\u001b[0;34m]\u001b[0m \u001b[0;32mfor\u001b[0m \u001b[0mres\u001b[0m \u001b[0;32min\u001b[0m \u001b[0mresults\u001b[0m\u001b[0;34m]\u001b[0m\u001b[0;34m\u001b[0m\u001b[0;34m\u001b[0m\u001b[0m\n\u001b[1;32m    154\u001b[0m     \u001b[0mrecall\u001b[0m \u001b[0;34m=\u001b[0m \u001b[0;34m[\u001b[0m\u001b[0mres\u001b[0m\u001b[0;34m[\u001b[0m\u001b[0;34m'metriques'\u001b[0m\u001b[0;34m]\u001b[0m\u001b[0;34m[\u001b[0m\u001b[0;34m'recall'\u001b[0m\u001b[0;34m]\u001b[0m \u001b[0;32mfor\u001b[0m \u001b[0mres\u001b[0m \u001b[0;32min\u001b[0m \u001b[0mresults\u001b[0m\u001b[0;34m]\u001b[0m\u001b[0;34m\u001b[0m\u001b[0;34m\u001b[0m\u001b[0m\n\u001b[0;32m--> 155\u001b[0;31m     \u001b[0mparam\u001b[0m \u001b[0;34m=\u001b[0m \u001b[0;34m[\u001b[0m\u001b[0mres\u001b[0m\u001b[0;34m[\u001b[0m\u001b[0;34m'parametres'\u001b[0m\u001b[0;34m]\u001b[0m\u001b[0;34m[\u001b[0m\u001b[0mparam_name\u001b[0m\u001b[0;34m]\u001b[0m \u001b[0;32mfor\u001b[0m \u001b[0mres\u001b[0m \u001b[0;32min\u001b[0m \u001b[0mresults\u001b[0m\u001b[0;34m]\u001b[0m\u001b[0;34m\u001b[0m\u001b[0;34m\u001b[0m\u001b[0m\n\u001b[0m\u001b[1;32m    156\u001b[0m \u001b[0;34m\u001b[0m\u001b[0m\n\u001b[1;32m    157\u001b[0m     \u001b[0mfig\u001b[0m\u001b[0;34m,\u001b[0m \u001b[0max\u001b[0m \u001b[0;34m=\u001b[0m \u001b[0mplt\u001b[0m\u001b[0;34m.\u001b[0m\u001b[0msubplots\u001b[0m\u001b[0;34m(\u001b[0m\u001b[0;36m1\u001b[0m\u001b[0;34m,\u001b[0m\u001b[0;36m3\u001b[0m\u001b[0;34m,\u001b[0m \u001b[0mfigsize\u001b[0m\u001b[0;34m=\u001b[0m\u001b[0;34m(\u001b[0m\u001b[0;36m15\u001b[0m\u001b[0;34m,\u001b[0m\u001b[0;36m5\u001b[0m\u001b[0;34m)\u001b[0m\u001b[0;34m)\u001b[0m\u001b[0;34m\u001b[0m\u001b[0;34m\u001b[0m\u001b[0m\n",
      "\u001b[0;31mKeyError\u001b[0m: 'n_estimators'"
     ]
    }
   ],
   "source": [
    "plot_tuning_results(results, 'n_estimators')"
   ]
  },
  {
   "cell_type": "code",
   "execution_count": 24,
   "metadata": {},
   "outputs": [
    {
     "data": {
      "image/png": "[encoded data removed]",
      "text/plain": [
       "<Figure size 1080x360 with 3 Axes>"
      ]
     },
     "metadata": {
      "needs_background": "light"
     },
     "output_type": "display_data"
    }
   ],
   "source": [
    "plot_tuning_results(results, 'subsample')"
   ]
  },
  {
   "cell_type": "code",
   "execution_count": 25,
   "metadata": {},
   "outputs": [
    {
     "data": {
      "text/plain": [
       "{'algorithm': 'XGBClassifier',\n",
       " 'parametres': {'learning_rate': 0.0001,\n",
       "  'max_depth': 8,\n",
       "  'min_child_weight': 2,\n",
       "  'subsample': 0.8},\n",
       " 'metriques': {'auc': 0.6415, 'precision': 0.6646, 'recall': 0.7902}}"
      ]
     },
     "execution_count": 25,
     "metadata": {},
     "output_type": "execute_result"
    }
   ],
   "source": [
    "# Get \"best\" model as defined by L2 norm of computed metrics\n",
    "#score_norms = [np.sqrt(pow(x['metriques']['auc'],2) + pow(x['metriques']['precision'],2) + pow(x['metriques']['recall'],2)) for x in results]\n",
    "#max_score_norm = np.argmax(score_norms)\n",
    "#max_score_norm_res = results[max_score_norm]\n",
    "auc_scores = [x['metriques']['auc'] for x in results]\n",
    "max_auc_ix = np.argmax(auc_scores)\n",
    "max_auc_res = results[max_auc_ix]\n",
    "max_auc_res"
   ]
  },
  {
   "cell_type": "code",
   "execution_count": 26,
   "metadata": {},
   "outputs": [],
   "source": [
    "learning_rate = max_auc_res['parametres']['learning_rate']\n",
    "max_depth = max_auc_res['parametres']['max_depth']\n",
    "min_child_weight = max_auc_res['parametres']['min_child_weight']\n",
    "subsample = max_auc_res['parametres']['subsample']\n",
    "xgb = XGBClassifier(learning_rate=learning_rate,\n",
    "                    max_depth=max_depth,\n",
    "                    min_child_weight=min_child_weight,\n",
    "                    subsample=subsample)"
   ]
  },
  {
   "cell_type": "code",
   "execution_count": 27,
   "metadata": {},
   "outputs": [],
   "source": [
    "model = xgb.fit(X_train, y_train.y)\n",
    "y_test_pred = model.predict(X_test)"
   ]
  },
  {
   "cell_type": "code",
   "execution_count": 28,
   "metadata": {},
   "outputs": [
    {
     "data": {
      "text/plain": [
       "0.6359659534063549"
      ]
     },
     "execution_count": 28,
     "metadata": {},
     "output_type": "execute_result"
    }
   ],
   "source": [
    "roc_auc_score(y_test, y_test_pred)"
   ]
  },
  {
   "cell_type": "markdown",
   "metadata": {},
   "source": [
    "## FEATURE IMPORTANCE"
   ]
  },
  {
   "cell_type": "code",
   "execution_count": 29,
   "metadata": {},
   "outputs": [
    {
     "data": {
      "image/png": "[encoded data removed]",
      "text/plain": [
       "<Figure size 1080x720 with 1 Axes>"
      ]
     },
     "metadata": {
      "needs_background": "light"
     },
     "output_type": "display_data"
    }
   ],
   "source": [
    "features = X_train.columns\n",
    "importances = model.feature_importances_\n",
    "plt.plot(features, importances)\n",
    "plt.gcf().set_size_inches(15,10);"
   ]
  },
  {
   "cell_type": "code",
   "execution_count": 30,
   "metadata": {},
   "outputs": [
    {
     "data": {
      "image/png": "[encoded data removed]",
      "text/plain": [
       "<Figure size 1080x720 with 1 Axes>"
      ]
     },
     "metadata": {
      "needs_background": "light"
     },
     "output_type": "display_data"
    }
   ],
   "source": [
    "from xgboost import plot_importance\n",
    "plot_importance(model, max_num_features=50, importance_type=\"gain\")\n",
    "plt.gcf().set_size_inches(15,10);"
   ]
  },
  {
   "cell_type": "code",
   "execution_count": 31,
   "metadata": {},
   "outputs": [
    {
     "data": {
      "text/html": [
       "<div>\n",
       "<style scoped>\n",
       "    .dataframe tbody tr th:only-of-type {\n",
       "        vertical-align: middle;\n",
       "    }\n",
       "\n",
       "    .dataframe tbody tr th {\n",
       "        vertical-align: top;\n",
       "    }\n",
       "\n",
       "    .dataframe thead th {\n",
       "        text-align: right;\n",
       "    }\n",
       "</style>\n",
       "<table border=\"1\" class=\"dataframe\">\n",
       "  <thead>\n",
       "    <tr style=\"text-align: right;\">\n",
       "      <th></th>\n",
       "      <th>TICKER</th>\n",
       "      <th>annee</th>\n",
       "      <th>mois</th>\n",
       "      <th>jour</th>\n",
       "      <th>OP</th>\n",
       "      <th>VO</th>\n",
       "      <th>HISTO_J</th>\n",
       "      <th>HISTO_S</th>\n",
       "      <th>HISTO_M</th>\n",
       "      <th>VOL_J</th>\n",
       "      <th>...</th>\n",
       "      <th>remporte</th>\n",
       "      <th>resultat</th>\n",
       "      <th>semestre</th>\n",
       "      <th>activites</th>\n",
       "      <th>au-dessus</th>\n",
       "      <th>dividende</th>\n",
       "      <th>objectifs</th>\n",
       "      <th>trimestre</th>\n",
       "      <th>croissance</th>\n",
       "      <th>participation</th>\n",
       "    </tr>\n",
       "  </thead>\n",
       "  <tbody>\n",
       "    <tr>\n",
       "      <th>0</th>\n",
       "      <td>AC</td>\n",
       "      <td>2010</td>\n",
       "      <td>10</td>\n",
       "      <td>11</td>\n",
       "      <td>27.370</td>\n",
       "      <td>583747</td>\n",
       "      <td>0.009700</td>\n",
       "      <td>0.059332</td>\n",
       "      <td>0.067944</td>\n",
       "      <td>-0.356155</td>\n",
       "      <td>...</td>\n",
       "      <td>0</td>\n",
       "      <td>0</td>\n",
       "      <td>0</td>\n",
       "      <td>0</td>\n",
       "      <td>0</td>\n",
       "      <td>0</td>\n",
       "      <td>0</td>\n",
       "      <td>0</td>\n",
       "      <td>0</td>\n",
       "      <td>0</td>\n",
       "    </tr>\n",
       "    <tr>\n",
       "      <th>1</th>\n",
       "      <td>AC</td>\n",
       "      <td>2010</td>\n",
       "      <td>10</td>\n",
       "      <td>28</td>\n",
       "      <td>29.220</td>\n",
       "      <td>752703</td>\n",
       "      <td>-0.003251</td>\n",
       "      <td>0.013923</td>\n",
       "      <td>0.106343</td>\n",
       "      <td>-0.264331</td>\n",
       "      <td>...</td>\n",
       "      <td>0</td>\n",
       "      <td>0</td>\n",
       "      <td>0</td>\n",
       "      <td>0</td>\n",
       "      <td>0</td>\n",
       "      <td>0</td>\n",
       "      <td>0</td>\n",
       "      <td>0</td>\n",
       "      <td>0</td>\n",
       "      <td>0</td>\n",
       "    </tr>\n",
       "    <tr>\n",
       "      <th>2</th>\n",
       "      <td>AC</td>\n",
       "      <td>2010</td>\n",
       "      <td>10</td>\n",
       "      <td>6</td>\n",
       "      <td>26.950</td>\n",
       "      <td>1747197</td>\n",
       "      <td>0.030540</td>\n",
       "      <td>0.041596</td>\n",
       "      <td>0.087230</td>\n",
       "      <td>0.924626</td>\n",
       "      <td>...</td>\n",
       "      <td>0</td>\n",
       "      <td>0</td>\n",
       "      <td>0</td>\n",
       "      <td>0</td>\n",
       "      <td>0</td>\n",
       "      <td>0</td>\n",
       "      <td>0</td>\n",
       "      <td>0</td>\n",
       "      <td>0</td>\n",
       "      <td>0</td>\n",
       "    </tr>\n",
       "    <tr>\n",
       "      <th>3</th>\n",
       "      <td>AC</td>\n",
       "      <td>2010</td>\n",
       "      <td>11</td>\n",
       "      <td>26</td>\n",
       "      <td>33.415</td>\n",
       "      <td>871648</td>\n",
       "      <td>0.001339</td>\n",
       "      <td>0.051875</td>\n",
       "      <td>0.151754</td>\n",
       "      <td>-0.202305</td>\n",
       "      <td>...</td>\n",
       "      <td>0</td>\n",
       "      <td>0</td>\n",
       "      <td>0</td>\n",
       "      <td>0</td>\n",
       "      <td>0</td>\n",
       "      <td>0</td>\n",
       "      <td>0</td>\n",
       "      <td>0</td>\n",
       "      <td>0</td>\n",
       "      <td>0</td>\n",
       "    </tr>\n",
       "    <tr>\n",
       "      <th>4</th>\n",
       "      <td>AC</td>\n",
       "      <td>2010</td>\n",
       "      <td>11</td>\n",
       "      <td>3</td>\n",
       "      <td>29.745</td>\n",
       "      <td>880633</td>\n",
       "      <td>0.004715</td>\n",
       "      <td>0.020701</td>\n",
       "      <td>0.145545</td>\n",
       "      <td>1.098479</td>\n",
       "      <td>...</td>\n",
       "      <td>0</td>\n",
       "      <td>0</td>\n",
       "      <td>0</td>\n",
       "      <td>0</td>\n",
       "      <td>0</td>\n",
       "      <td>0</td>\n",
       "      <td>0</td>\n",
       "      <td>0</td>\n",
       "      <td>0</td>\n",
       "      <td>0</td>\n",
       "    </tr>\n",
       "    <tr>\n",
       "      <th>...</th>\n",
       "      <td>...</td>\n",
       "      <td>...</td>\n",
       "      <td>...</td>\n",
       "      <td>...</td>\n",
       "      <td>...</td>\n",
       "      <td>...</td>\n",
       "      <td>...</td>\n",
       "      <td>...</td>\n",
       "      <td>...</td>\n",
       "      <td>...</td>\n",
       "      <td>...</td>\n",
       "      <td>...</td>\n",
       "      <td>...</td>\n",
       "      <td>...</td>\n",
       "      <td>...</td>\n",
       "      <td>...</td>\n",
       "      <td>...</td>\n",
       "      <td>...</td>\n",
       "      <td>...</td>\n",
       "      <td>...</td>\n",
       "      <td>...</td>\n",
       "    </tr>\n",
       "    <tr>\n",
       "      <th>7124</th>\n",
       "      <td>VIV</td>\n",
       "      <td>2017</td>\n",
       "      <td>9</td>\n",
       "      <td>20</td>\n",
       "      <td>21.075</td>\n",
       "      <td>2787945</td>\n",
       "      <td>-0.007085</td>\n",
       "      <td>-0.010125</td>\n",
       "      <td>0.122863</td>\n",
       "      <td>-0.126979</td>\n",
       "      <td>...</td>\n",
       "      <td>0</td>\n",
       "      <td>0</td>\n",
       "      <td>0</td>\n",
       "      <td>0</td>\n",
       "      <td>0</td>\n",
       "      <td>0</td>\n",
       "      <td>0</td>\n",
       "      <td>0</td>\n",
       "      <td>0</td>\n",
       "      <td>0</td>\n",
       "    </tr>\n",
       "    <tr>\n",
       "      <th>7125</th>\n",
       "      <td>VIV</td>\n",
       "      <td>2017</td>\n",
       "      <td>9</td>\n",
       "      <td>25</td>\n",
       "      <td>20.710</td>\n",
       "      <td>2082640</td>\n",
       "      <td>0.000482</td>\n",
       "      <td>-0.006700</td>\n",
       "      <td>0.095540</td>\n",
       "      <td>-0.489023</td>\n",
       "      <td>...</td>\n",
       "      <td>0</td>\n",
       "      <td>0</td>\n",
       "      <td>0</td>\n",
       "      <td>0</td>\n",
       "      <td>0</td>\n",
       "      <td>0</td>\n",
       "      <td>0</td>\n",
       "      <td>0</td>\n",
       "      <td>0</td>\n",
       "      <td>0</td>\n",
       "    </tr>\n",
       "    <tr>\n",
       "      <th>7126</th>\n",
       "      <td>VIV</td>\n",
       "      <td>2017</td>\n",
       "      <td>9</td>\n",
       "      <td>26</td>\n",
       "      <td>20.765</td>\n",
       "      <td>1622952</td>\n",
       "      <td>-0.001445</td>\n",
       "      <td>-0.021020</td>\n",
       "      <td>0.069401</td>\n",
       "      <td>-0.220724</td>\n",
       "      <td>...</td>\n",
       "      <td>0</td>\n",
       "      <td>0</td>\n",
       "      <td>0</td>\n",
       "      <td>0</td>\n",
       "      <td>0</td>\n",
       "      <td>0</td>\n",
       "      <td>0</td>\n",
       "      <td>0</td>\n",
       "      <td>0</td>\n",
       "      <td>0</td>\n",
       "    </tr>\n",
       "    <tr>\n",
       "      <th>7127</th>\n",
       "      <td>VIV</td>\n",
       "      <td>2017</td>\n",
       "      <td>9</td>\n",
       "      <td>29</td>\n",
       "      <td>21.060</td>\n",
       "      <td>6358735</td>\n",
       "      <td>0.029066</td>\n",
       "      <td>0.032538</td>\n",
       "      <td>0.105834</td>\n",
       "      <td>1.942386</td>\n",
       "      <td>...</td>\n",
       "      <td>0</td>\n",
       "      <td>0</td>\n",
       "      <td>0</td>\n",
       "      <td>0</td>\n",
       "      <td>0</td>\n",
       "      <td>0</td>\n",
       "      <td>0</td>\n",
       "      <td>0</td>\n",
       "      <td>0</td>\n",
       "      <td>0</td>\n",
       "    </tr>\n",
       "    <tr>\n",
       "      <th>7128</th>\n",
       "      <td>VIV</td>\n",
       "      <td>2017</td>\n",
       "      <td>9</td>\n",
       "      <td>4</td>\n",
       "      <td>20.065</td>\n",
       "      <td>2250835</td>\n",
       "      <td>-0.008876</td>\n",
       "      <td>0.067729</td>\n",
       "      <td>-0.000746</td>\n",
       "      <td>-0.737036</td>\n",
       "      <td>...</td>\n",
       "      <td>0</td>\n",
       "      <td>0</td>\n",
       "      <td>0</td>\n",
       "      <td>0</td>\n",
       "      <td>0</td>\n",
       "      <td>0</td>\n",
       "      <td>0</td>\n",
       "      <td>0</td>\n",
       "      <td>0</td>\n",
       "      <td>0</td>\n",
       "    </tr>\n",
       "  </tbody>\n",
       "</table>\n",
       "<p>7129 rows × 68 columns</p>\n",
       "</div>"
      ],
      "text/plain": [
       "     TICKER  annee  mois  jour      OP       VO   HISTO_J   HISTO_S   HISTO_M  \\\n",
       "0        AC   2010    10    11  27.370   583747  0.009700  0.059332  0.067944   \n",
       "1        AC   2010    10    28  29.220   752703 -0.003251  0.013923  0.106343   \n",
       "2        AC   2010    10     6  26.950  1747197  0.030540  0.041596  0.087230   \n",
       "3        AC   2010    11    26  33.415   871648  0.001339  0.051875  0.151754   \n",
       "4        AC   2010    11     3  29.745   880633  0.004715  0.020701  0.145545   \n",
       "...     ...    ...   ...   ...     ...      ...       ...       ...       ...   \n",
       "7124    VIV   2017     9    20  21.075  2787945 -0.007085 -0.010125  0.122863   \n",
       "7125    VIV   2017     9    25  20.710  2082640  0.000482 -0.006700  0.095540   \n",
       "7126    VIV   2017     9    26  20.765  1622952 -0.001445 -0.021020  0.069401   \n",
       "7127    VIV   2017     9    29  21.060  6358735  0.029066  0.032538  0.105834   \n",
       "7128    VIV   2017     9     4  20.065  2250835 -0.008876  0.067729 -0.000746   \n",
       "\n",
       "         VOL_J  ...  remporte  resultat  semestre  activites  au-dessus  \\\n",
       "0    -0.356155  ...         0         0         0          0          0   \n",
       "1    -0.264331  ...         0         0         0          0          0   \n",
       "2     0.924626  ...         0         0         0          0          0   \n",
       "3    -0.202305  ...         0         0         0          0          0   \n",
       "4     1.098479  ...         0         0         0          0          0   \n",
       "...        ...  ...       ...       ...       ...        ...        ...   \n",
       "7124 -0.126979  ...         0         0         0          0          0   \n",
       "7125 -0.489023  ...         0         0         0          0          0   \n",
       "7126 -0.220724  ...         0         0         0          0          0   \n",
       "7127  1.942386  ...         0         0         0          0          0   \n",
       "7128 -0.737036  ...         0         0         0          0          0   \n",
       "\n",
       "      dividende  objectifs  trimestre  croissance  participation  \n",
       "0             0          0          0           0              0  \n",
       "1             0          0          0           0              0  \n",
       "2             0          0          0           0              0  \n",
       "3             0          0          0           0              0  \n",
       "4             0          0          0           0              0  \n",
       "...         ...        ...        ...         ...            ...  \n",
       "7124          0          0          0           0              0  \n",
       "7125          0          0          0           0              0  \n",
       "7126          0          0          0           0              0  \n",
       "7127          0          0          0           0              0  \n",
       "7128          0          0          0           0              0  \n",
       "\n",
       "[7129 rows x 68 columns]"
      ]
     },
     "execution_count": 31,
     "metadata": {},
     "output_type": "execute_result"
    }
   ],
   "source": [
    "features = X_train.columns[~(importances == 0)]\n",
    "X_1 = X[features]\n",
    "X_1"
   ]
  },
  {
   "cell_type": "code",
   "execution_count": 32,
   "metadata": {},
   "outputs": [
    {
     "data": {
      "image/png": "[encoded data removed]",
      "text/plain": [
       "<Figure size 864x864 with 2 Axes>"
      ]
     },
     "metadata": {
      "needs_background": "light"
     },
     "output_type": "display_data"
    }
   ],
   "source": [
    "from exploratory_notebooks.helper_functions import plot_correlation_matrix\n",
    "\n",
    "plot_correlation_matrix(X_1.corr(), \"Selected features correlation matrix\", 'seaborn')"
   ]
  },
  {
   "cell_type": "markdown",
   "metadata": {},
   "source": [
    "### Question 7)"
   ]
  },
  {
   "cell_type": "markdown",
   "metadata": {},
   "source": [
    "Q : Définir la variable à expliquer comme une variable binaire sur les niveaux de rendements de la base filtrée et ce tout ticker confondu. Utiliser le package plotly pour dessiner un graphe de votre choix avec la variable à expliquer en ordonnée."
   ]
  },
  {
   "cell_type": "code",
   "execution_count": 33,
   "metadata": {},
   "outputs": [
    {
     "data": {
      "text/html": [
       "<div>\n",
       "<style scoped>\n",
       "    .dataframe tbody tr th:only-of-type {\n",
       "        vertical-align: middle;\n",
       "    }\n",
       "\n",
       "    .dataframe tbody tr th {\n",
       "        vertical-align: top;\n",
       "    }\n",
       "\n",
       "    .dataframe thead th {\n",
       "        text-align: right;\n",
       "    }\n",
       "</style>\n",
       "<table border=\"1\" class=\"dataframe\">\n",
       "  <thead>\n",
       "    <tr style=\"text-align: right;\">\n",
       "      <th></th>\n",
       "      <th>TICKER</th>\n",
       "      <th>annee</th>\n",
       "      <th>mois</th>\n",
       "      <th>jour</th>\n",
       "      <th>OP</th>\n",
       "      <th>VO</th>\n",
       "      <th>HISTO_J</th>\n",
       "      <th>HISTO_S</th>\n",
       "      <th>HISTO_M</th>\n",
       "      <th>VOL_J</th>\n",
       "      <th>...</th>\n",
       "      <th>transaction</th>\n",
       "      <th>actionnaires</th>\n",
       "      <th>coentreprise</th>\n",
       "      <th>construction</th>\n",
       "      <th>collaboration</th>\n",
       "      <th>developpement</th>\n",
       "      <th>l_acquisition</th>\n",
       "      <th>participation</th>\n",
       "      <th>recommandation</th>\n",
       "      <th>y</th>\n",
       "    </tr>\n",
       "  </thead>\n",
       "  <tbody>\n",
       "    <tr>\n",
       "      <th>0</th>\n",
       "      <td>AC</td>\n",
       "      <td>2010</td>\n",
       "      <td>10</td>\n",
       "      <td>11</td>\n",
       "      <td>27.370</td>\n",
       "      <td>583747</td>\n",
       "      <td>0.009700</td>\n",
       "      <td>0.059332</td>\n",
       "      <td>0.067944</td>\n",
       "      <td>-0.356155</td>\n",
       "      <td>...</td>\n",
       "      <td>0</td>\n",
       "      <td>0</td>\n",
       "      <td>0</td>\n",
       "      <td>0</td>\n",
       "      <td>0</td>\n",
       "      <td>0</td>\n",
       "      <td>0</td>\n",
       "      <td>0</td>\n",
       "      <td>0</td>\n",
       "      <td>1</td>\n",
       "    </tr>\n",
       "    <tr>\n",
       "      <th>1</th>\n",
       "      <td>AC</td>\n",
       "      <td>2010</td>\n",
       "      <td>10</td>\n",
       "      <td>28</td>\n",
       "      <td>29.220</td>\n",
       "      <td>752703</td>\n",
       "      <td>-0.003251</td>\n",
       "      <td>0.013923</td>\n",
       "      <td>0.106343</td>\n",
       "      <td>-0.264331</td>\n",
       "      <td>...</td>\n",
       "      <td>0</td>\n",
       "      <td>0</td>\n",
       "      <td>0</td>\n",
       "      <td>0</td>\n",
       "      <td>0</td>\n",
       "      <td>0</td>\n",
       "      <td>0</td>\n",
       "      <td>0</td>\n",
       "      <td>0</td>\n",
       "      <td>1</td>\n",
       "    </tr>\n",
       "    <tr>\n",
       "      <th>2</th>\n",
       "      <td>AC</td>\n",
       "      <td>2010</td>\n",
       "      <td>10</td>\n",
       "      <td>6</td>\n",
       "      <td>26.950</td>\n",
       "      <td>1747197</td>\n",
       "      <td>0.030540</td>\n",
       "      <td>0.041596</td>\n",
       "      <td>0.087230</td>\n",
       "      <td>0.924626</td>\n",
       "      <td>...</td>\n",
       "      <td>0</td>\n",
       "      <td>0</td>\n",
       "      <td>0</td>\n",
       "      <td>0</td>\n",
       "      <td>0</td>\n",
       "      <td>0</td>\n",
       "      <td>0</td>\n",
       "      <td>0</td>\n",
       "      <td>0</td>\n",
       "      <td>1</td>\n",
       "    </tr>\n",
       "    <tr>\n",
       "      <th>3</th>\n",
       "      <td>AC</td>\n",
       "      <td>2010</td>\n",
       "      <td>11</td>\n",
       "      <td>26</td>\n",
       "      <td>33.415</td>\n",
       "      <td>871648</td>\n",
       "      <td>0.001339</td>\n",
       "      <td>0.051875</td>\n",
       "      <td>0.151754</td>\n",
       "      <td>-0.202305</td>\n",
       "      <td>...</td>\n",
       "      <td>0</td>\n",
       "      <td>0</td>\n",
       "      <td>0</td>\n",
       "      <td>0</td>\n",
       "      <td>0</td>\n",
       "      <td>0</td>\n",
       "      <td>0</td>\n",
       "      <td>0</td>\n",
       "      <td>0</td>\n",
       "      <td>1</td>\n",
       "    </tr>\n",
       "    <tr>\n",
       "      <th>4</th>\n",
       "      <td>AC</td>\n",
       "      <td>2010</td>\n",
       "      <td>11</td>\n",
       "      <td>3</td>\n",
       "      <td>29.745</td>\n",
       "      <td>880633</td>\n",
       "      <td>0.004715</td>\n",
       "      <td>0.020701</td>\n",
       "      <td>0.145545</td>\n",
       "      <td>1.098479</td>\n",
       "      <td>...</td>\n",
       "      <td>0</td>\n",
       "      <td>0</td>\n",
       "      <td>0</td>\n",
       "      <td>0</td>\n",
       "      <td>0</td>\n",
       "      <td>0</td>\n",
       "      <td>0</td>\n",
       "      <td>0</td>\n",
       "      <td>0</td>\n",
       "      <td>1</td>\n",
       "    </tr>\n",
       "  </tbody>\n",
       "</table>\n",
       "<p>5 rows × 245 columns</p>\n",
       "</div>"
      ],
      "text/plain": [
       "  TICKER  annee  mois  jour      OP       VO   HISTO_J   HISTO_S   HISTO_M  \\\n",
       "0     AC   2010    10    11  27.370   583747  0.009700  0.059332  0.067944   \n",
       "1     AC   2010    10    28  29.220   752703 -0.003251  0.013923  0.106343   \n",
       "2     AC   2010    10     6  26.950  1747197  0.030540  0.041596  0.087230   \n",
       "3     AC   2010    11    26  33.415   871648  0.001339  0.051875  0.151754   \n",
       "4     AC   2010    11     3  29.745   880633  0.004715  0.020701  0.145545   \n",
       "\n",
       "      VOL_J  ...  transaction  actionnaires  coentreprise  construction  \\\n",
       "0 -0.356155  ...            0             0             0             0   \n",
       "1 -0.264331  ...            0             0             0             0   \n",
       "2  0.924626  ...            0             0             0             0   \n",
       "3 -0.202305  ...            0             0             0             0   \n",
       "4  1.098479  ...            0             0             0             0   \n",
       "\n",
       "   collaboration  developpement  l_acquisition  participation  recommandation  \\\n",
       "0              0              0              0              0               0   \n",
       "1              0              0              0              0               0   \n",
       "2              0              0              0              0               0   \n",
       "3              0              0              0              0               0   \n",
       "4              0              0              0              0               0   \n",
       "\n",
       "   y  \n",
       "0  1  \n",
       "1  1  \n",
       "2  1  \n",
       "3  1  \n",
       "4  1  \n",
       "\n",
       "[5 rows x 245 columns]"
      ]
     },
     "execution_count": 33,
     "metadata": {},
     "output_type": "execute_result"
    }
   ],
   "source": [
    "dataset = X.merge(y_label, right_index=True, left_index=True)\n",
    "dataset.head()"
   ]
  },
  {
   "cell_type": "code",
   "execution_count": 34,
   "metadata": {},
   "outputs": [],
   "source": [
    "import ipywidgets as widgets\n",
    "import plotly.graph_objects as go"
   ]
  },
  {
   "cell_type": "code",
   "execution_count": 45,
   "metadata": {},
   "outputs": [
    {
     "data": {
      "application/vnd.jupyter.widget-view+json": {
       "model_id": "616cd6bd15b04796b781041790812da8",
       "version_major": 2,
       "version_minor": 0
      },
      "text/plain": [
       "interactive(children=(Dropdown(description='change', options={'2011': '2011', '2012': '2012', '2013': '2013', …"
      ]
     },
     "metadata": {},
     "output_type": "display_data"
    }
   ],
   "source": [
    "choices = {x:x for x in features if dataset[x].value_counts().shape[0] == 2}\n",
    "choices.update({\"ALL\":\"ALL\"})\n",
    "\n",
    "def on_change(change):\n",
    "    if not change == None:\n",
    "        return change\n",
    "    else: \n",
    "        return \"ALL\"\n",
    "\n",
    "res = widgets.interactive(on_change, change=choices)\n",
    "display(res)"
   ]
  },
  {
   "cell_type": "code",
   "execution_count": 188,
   "metadata": {},
   "outputs": [
    {
     "data": {
      "application/vnd.plotly.v1+json": {
       "config": {
        "plotlyServerURL": "https://plot.ly"
       },
       "data": [
        {
         "marker": {
          "color": "lightskyblue"
         },
         "opacity": 0.45,
         "type": "bar",
         "uid": "a1a78ec6-7e67-4a36-abd2-707f770dd495",
         "x": [
          -1,
          1
         ],
         "y": [
          3139,
          3990
         ]
        }
       ],
       "layout": {
        "autosize": true,
        "template": {
         "data": {
          "bar": [
           {
            "error_x": {
             "color": "#2a3f5f"
            },
            "error_y": {
             "color": "#2a3f5f"
            },
            "marker": {
             "line": {
              "color": "#E5ECF6",
              "width": 0.5
             }
            },
            "type": "bar"
           }
          ],
          "barpolar": [
           {
            "marker": {
             "line": {
              "color": "#E5ECF6",
              "width": 0.5
             }
            },
            "type": "barpolar"
           }
          ],
          "carpet": [
           {
            "aaxis": {
             "endlinecolor": "#2a3f5f",
             "gridcolor": "white",
             "linecolor": "white",
             "minorgridcolor": "white",
             "startlinecolor": "#2a3f5f"
            },
            "baxis": {
             "endlinecolor": "#2a3f5f",
             "gridcolor": "white",
             "linecolor": "white",
             "minorgridcolor": "white",
             "startlinecolor": "#2a3f5f"
            },
            "type": "carpet"
           }
          ],
          "choropleth": [
           {
            "colorbar": {
             "outlinewidth": 0,
             "ticks": ""
            },
            "type": "choropleth"
           }
          ],
          "contour": [
           {
            "colorbar": {
             "outlinewidth": 0,
             "ticks": ""
            },
            "colorscale": [
             [
              0,
              "#0d0887"
             ],
             [
              0.1111111111111111,
              "#46039f"
             ],
             [
              0.2222222222222222,
              "#7201a8"
             ],
             [
              0.3333333333333333,
              "#9c179e"
             ],
             [
              0.4444444444444444,
              "#bd3786"
             ],
             [
              0.5555555555555556,
              "#d8576b"
             ],
             [
              0.6666666666666666,
              "#ed7953"
             ],
             [
              0.7777777777777778,
              "#fb9f3a"
             ],
             [
              0.8888888888888888,
              "#fdca26"
             ],
             [
              1,
              "#f0f921"
             ]
            ],
            "type": "contour"
           }
          ],
          "contourcarpet": [
           {
            "colorbar": {
             "outlinewidth": 0,
             "ticks": ""
            },
            "type": "contourcarpet"
           }
          ],
          "heatmap": [
           {
            "colorbar": {
             "outlinewidth": 0,
             "ticks": ""
            },
            "colorscale": [
             [
              0,
              "#0d0887"
             ],
             [
              0.1111111111111111,
              "#46039f"
             ],
             [
              0.2222222222222222,
              "#7201a8"
             ],
             [
              0.3333333333333333,
              "#9c179e"
             ],
             [
              0.4444444444444444,
              "#bd3786"
             ],
             [
              0.5555555555555556,
              "#d8576b"
             ],
             [
              0.6666666666666666,
              "#ed7953"
             ],
             [
              0.7777777777777778,
              "#fb9f3a"
             ],
             [
              0.8888888888888888,
              "#fdca26"
             ],
             [
              1,
              "#f0f921"
             ]
            ],
            "type": "heatmap"
           }
          ],
          "heatmapgl": [
           {
            "colorbar": {
             "outlinewidth": 0,
             "ticks": ""
            },
            "colorscale": [
             [
              0,
              "#0d0887"
             ],
             [
              0.1111111111111111,
              "#46039f"
             ],
             [
              0.2222222222222222,
              "#7201a8"
             ],
             [
              0.3333333333333333,
              "#9c179e"
             ],
             [
              0.4444444444444444,
              "#bd3786"
             ],
             [
              0.5555555555555556,
              "#d8576b"
             ],
             [
              0.6666666666666666,
              "#ed7953"
             ],
             [
              0.7777777777777778,
              "#fb9f3a"
             ],
             [
              0.8888888888888888,
              "#fdca26"
             ],
             [
              1,
              "#f0f921"
             ]
            ],
            "type": "heatmapgl"
           }
          ],
          "histogram": [
           {
            "marker": {
             "colorbar": {
              "outlinewidth": 0,
              "ticks": ""
             }
            },
            "type": "histogram"
           }
          ],
          "histogram2d": [
           {
            "colorbar": {
             "outlinewidth": 0,
             "ticks": ""
            },
            "colorscale": [
             [
              0,
              "#0d0887"
             ],
             [
              0.1111111111111111,
              "#46039f"
             ],
             [
              0.2222222222222222,
              "#7201a8"
             ],
             [
              0.3333333333333333,
              "#9c179e"
             ],
             [
              0.4444444444444444,
              "#bd3786"
             ],
             [
              0.5555555555555556,
              "#d8576b"
             ],
             [
              0.6666666666666666,
              "#ed7953"
             ],
             [
              0.7777777777777778,
              "#fb9f3a"
             ],
             [
              0.8888888888888888,
              "#fdca26"
             ],
             [
              1,
              "#f0f921"
             ]
            ],
            "type": "histogram2d"
           }
          ],
          "histogram2dcontour": [
           {
            "colorbar": {
             "outlinewidth": 0,
             "ticks": ""
            },
            "colorscale": [
             [
              0,
              "#0d0887"
             ],
             [
              0.1111111111111111,
              "#46039f"
             ],
             [
              0.2222222222222222,
              "#7201a8"
             ],
             [
              0.3333333333333333,
              "#9c179e"
             ],
             [
              0.4444444444444444,
              "#bd3786"
             ],
             [
              0.5555555555555556,
              "#d8576b"
             ],
             [
              0.6666666666666666,
              "#ed7953"
             ],
             [
              0.7777777777777778,
              "#fb9f3a"
             ],
             [
              0.8888888888888888,
              "#fdca26"
             ],
             [
              1,
              "#f0f921"
             ]
            ],
            "type": "histogram2dcontour"
           }
          ],
          "mesh3d": [
           {
            "colorbar": {
             "outlinewidth": 0,
             "ticks": ""
            },
            "type": "mesh3d"
           }
          ],
          "parcoords": [
           {
            "line": {
             "colorbar": {
              "outlinewidth": 0,
              "ticks": ""
             }
            },
            "type": "parcoords"
           }
          ],
          "pie": [
           {
            "automargin": true,
            "type": "pie"
           }
          ],
          "scatter": [
           {
            "marker": {
             "colorbar": {
              "outlinewidth": 0,
              "ticks": ""
             }
            },
            "type": "scatter"
           }
          ],
          "scatter3d": [
           {
            "line": {
             "colorbar": {
              "outlinewidth": 0,
              "ticks": ""
             }
            },
            "marker": {
             "colorbar": {
              "outlinewidth": 0,
              "ticks": ""
             }
            },
            "type": "scatter3d"
           }
          ],
          "scattercarpet": [
           {
            "marker": {
             "colorbar": {
              "outlinewidth": 0,
              "ticks": ""
             }
            },
            "type": "scattercarpet"
           }
          ],
          "scattergeo": [
           {
            "marker": {
             "colorbar": {
              "outlinewidth": 0,
              "ticks": ""
             }
            },
            "type": "scattergeo"
           }
          ],
          "scattergl": [
           {
            "marker": {
             "colorbar": {
              "outlinewidth": 0,
              "ticks": ""
             }
            },
            "type": "scattergl"
           }
          ],
          "scattermapbox": [
           {
            "marker": {
             "colorbar": {
              "outlinewidth": 0,
              "ticks": ""
             }
            },
            "type": "scattermapbox"
           }
          ],
          "scatterpolar": [
           {
            "marker": {
             "colorbar": {
              "outlinewidth": 0,
              "ticks": ""
             }
            },
            "type": "scatterpolar"
           }
          ],
          "scatterpolargl": [
           {
            "marker": {
             "colorbar": {
              "outlinewidth": 0,
              "ticks": ""
             }
            },
            "type": "scatterpolargl"
           }
          ],
          "scatterternary": [
           {
            "marker": {
             "colorbar": {
              "outlinewidth": 0,
              "ticks": ""
             }
            },
            "type": "scatterternary"
           }
          ],
          "surface": [
           {
            "colorbar": {
             "outlinewidth": 0,
             "ticks": ""
            },
            "colorscale": [
             [
              0,
              "#0d0887"
             ],
             [
              0.1111111111111111,
              "#46039f"
             ],
             [
              0.2222222222222222,
              "#7201a8"
             ],
             [
              0.3333333333333333,
              "#9c179e"
             ],
             [
              0.4444444444444444,
              "#bd3786"
             ],
             [
              0.5555555555555556,
              "#d8576b"
             ],
             [
              0.6666666666666666,
              "#ed7953"
             ],
             [
              0.7777777777777778,
              "#fb9f3a"
             ],
             [
              0.8888888888888888,
              "#fdca26"
             ],
             [
              1,
              "#f0f921"
             ]
            ],
            "type": "surface"
           }
          ],
          "table": [
           {
            "cells": {
             "fill": {
              "color": "#EBF0F8"
             },
             "line": {
              "color": "white"
             }
            },
            "header": {
             "fill": {
              "color": "#C8D4E3"
             },
             "line": {
              "color": "white"
             }
            },
            "type": "table"
           }
          ]
         },
         "layout": {
          "annotationdefaults": {
           "arrowcolor": "#2a3f5f",
           "arrowhead": 0,
           "arrowwidth": 1
          },
          "coloraxis": {
           "colorbar": {
            "outlinewidth": 0,
            "ticks": ""
           }
          },
          "colorscale": {
           "diverging": [
            [
             0,
             "#8e0152"
            ],
            [
             0.1,
             "#c51b7d"
            ],
            [
             0.2,
             "#de77ae"
            ],
            [
             0.3,
             "#f1b6da"
            ],
            [
             0.4,
             "#fde0ef"
            ],
            [
             0.5,
             "#f7f7f7"
            ],
            [
             0.6,
             "#e6f5d0"
            ],
            [
             0.7,
             "#b8e186"
            ],
            [
             0.8,
             "#7fbc41"
            ],
            [
             0.9,
             "#4d9221"
            ],
            [
             1,
             "#276419"
            ]
           ],
           "sequential": [
            [
             0,
             "#0d0887"
            ],
            [
             0.1111111111111111,
             "#46039f"
            ],
            [
             0.2222222222222222,
             "#7201a8"
            ],
            [
             0.3333333333333333,
             "#9c179e"
            ],
            [
             0.4444444444444444,
             "#bd3786"
            ],
            [
             0.5555555555555556,
             "#d8576b"
            ],
            [
             0.6666666666666666,
             "#ed7953"
            ],
            [
             0.7777777777777778,
             "#fb9f3a"
            ],
            [
             0.8888888888888888,
             "#fdca26"
            ],
            [
             1,
             "#f0f921"
            ]
           ],
           "sequentialminus": [
            [
             0,
             "#0d0887"
            ],
            [
             0.1111111111111111,
             "#46039f"
            ],
            [
             0.2222222222222222,
             "#7201a8"
            ],
            [
             0.3333333333333333,
             "#9c179e"
            ],
            [
             0.4444444444444444,
             "#bd3786"
            ],
            [
             0.5555555555555556,
             "#d8576b"
            ],
            [
             0.6666666666666666,
             "#ed7953"
            ],
            [
             0.7777777777777778,
             "#fb9f3a"
            ],
            [
             0.8888888888888888,
             "#fdca26"
            ],
            [
             1,
             "#f0f921"
            ]
           ]
          },
          "colorway": [
           "#636efa",
           "#EF553B",
           "#00cc96",
           "#ab63fa",
           "#FFA15A",
           "#19d3f3",
           "#FF6692",
           "#B6E880",
           "#FF97FF",
           "#FECB52"
          ],
          "font": {
           "color": "#2a3f5f"
          },
          "geo": {
           "bgcolor": "white",
           "lakecolor": "white",
           "landcolor": "#E5ECF6",
           "showlakes": true,
           "showland": true,
           "subunitcolor": "white"
          },
          "hoverlabel": {
           "align": "left"
          },
          "hovermode": "closest",
          "mapbox": {
           "style": "light"
          },
          "paper_bgcolor": "white",
          "plot_bgcolor": "#E5ECF6",
          "polar": {
           "angularaxis": {
            "gridcolor": "white",
            "linecolor": "white",
            "ticks": ""
           },
           "bgcolor": "#E5ECF6",
           "radialaxis": {
            "gridcolor": "white",
            "linecolor": "white",
            "ticks": ""
           }
          },
          "scene": {
           "xaxis": {
            "backgroundcolor": "#E5ECF6",
            "gridcolor": "white",
            "gridwidth": 2,
            "linecolor": "white",
            "showbackground": true,
            "ticks": "",
            "zerolinecolor": "white"
           },
           "yaxis": {
            "backgroundcolor": "#E5ECF6",
            "gridcolor": "white",
            "gridwidth": 2,
            "linecolor": "white",
            "showbackground": true,
            "ticks": "",
            "zerolinecolor": "white"
           },
           "zaxis": {
            "backgroundcolor": "#E5ECF6",
            "gridcolor": "white",
            "gridwidth": 2,
            "linecolor": "white",
            "showbackground": true,
            "ticks": "",
            "zerolinecolor": "white"
           }
          },
          "shapedefaults": {
           "line": {
            "color": "#2a3f5f"
           }
          },
          "ternary": {
           "aaxis": {
            "gridcolor": "white",
            "linecolor": "white",
            "ticks": ""
           },
           "baxis": {
            "gridcolor": "white",
            "linecolor": "white",
            "ticks": ""
           },
           "bgcolor": "#E5ECF6",
           "caxis": {
            "gridcolor": "white",
            "linecolor": "white",
            "ticks": ""
           }
          },
          "title": {
           "x": 0.05
          },
          "xaxis": {
           "automargin": true,
           "gridcolor": "white",
           "linecolor": "white",
           "ticks": "",
           "title": {
            "standoff": 15
           },
           "zerolinecolor": "white",
           "zerolinewidth": 2
          },
          "yaxis": {
           "automargin": true,
           "gridcolor": "white",
           "linecolor": "white",
           "ticks": "",
           "title": {
            "standoff": 15
           },
           "zerolinecolor": "white",
           "zerolinewidth": 2
          }
         }
        },
        "title": {
         "text": "Label values by ALL"
        },
        "xaxis": {
         "autorange": true,
         "range": [
          -2,
          2
         ],
         "type": "linear"
        },
        "yaxis": {
         "autorange": true,
         "range": [
          0,
          4200
         ],
         "type": "linear"
        }
       }
      },
      "image/png": "[encoded data removed]",
      "text/html": [
       "<div>\n",
       "        \n",
       "        \n",
       "            <div id=\"83e6220a-8866-432a-b69d-790fa38ba579\" class=\"plotly-graph-div\" style=\"height:525px; width:100%;\"></div>\n",
       "            <script type=\"text/javascript\">\n",
       "                require([\"plotly\"], function(Plotly) {\n",
       "                    window.PLOTLYENV=window.PLOTLYENV || {};\n",
       "                    \n",
       "                if (document.getElementById(\"83e6220a-8866-432a-b69d-790fa38ba579\")) {\n",
       "                    Plotly.newPlot(\n",
       "                        '83e6220a-8866-432a-b69d-790fa38ba579',\n",
       "                        [{\"marker\": {\"color\": \"lightskyblue\"}, \"opacity\": 0.45, \"type\": \"bar\", \"uid\": \"a1a78ec6-7e67-4a36-abd2-707f770dd495\", \"x\": [-1, 1], \"y\": [3139, 3990]}],\n",
       "                        {\"template\": {\"data\": {\"bar\": [{\"error_x\": {\"color\": \"#2a3f5f\"}, \"error_y\": {\"color\": \"#2a3f5f\"}, \"marker\": {\"line\": {\"color\": \"#E5ECF6\", \"width\": 0.5}}, \"type\": \"bar\"}], \"barpolar\": [{\"marker\": {\"line\": {\"color\": \"#E5ECF6\", \"width\": 0.5}}, \"type\": \"barpolar\"}], \"carpet\": [{\"aaxis\": {\"endlinecolor\": \"#2a3f5f\", \"gridcolor\": \"white\", \"linecolor\": \"white\", \"minorgridcolor\": \"white\", \"startlinecolor\": \"#2a3f5f\"}, \"baxis\": {\"endlinecolor\": \"#2a3f5f\", \"gridcolor\": \"white\", \"linecolor\": \"white\", \"minorgridcolor\": \"white\", \"startlinecolor\": \"#2a3f5f\"}, \"type\": \"carpet\"}], \"choropleth\": [{\"colorbar\": {\"outlinewidth\": 0, \"ticks\": \"\"}, \"type\": \"choropleth\"}], \"contour\": [{\"colorbar\": {\"outlinewidth\": 0, \"ticks\": \"\"}, \"colorscale\": [[0.0, \"#0d0887\"], [0.1111111111111111, \"#46039f\"], [0.2222222222222222, \"#7201a8\"], [0.3333333333333333, \"#9c179e\"], [0.4444444444444444, \"#bd3786\"], [0.5555555555555556, \"#d8576b\"], [0.6666666666666666, \"#ed7953\"], [0.7777777777777778, \"#fb9f3a\"], [0.8888888888888888, \"#fdca26\"], [1.0, \"#f0f921\"]], \"type\": \"contour\"}], \"contourcarpet\": [{\"colorbar\": {\"outlinewidth\": 0, \"ticks\": \"\"}, \"type\": \"contourcarpet\"}], \"heatmap\": [{\"colorbar\": {\"outlinewidth\": 0, \"ticks\": \"\"}, \"colorscale\": [[0.0, \"#0d0887\"], [0.1111111111111111, \"#46039f\"], [0.2222222222222222, \"#7201a8\"], [0.3333333333333333, \"#9c179e\"], [0.4444444444444444, \"#bd3786\"], [0.5555555555555556, \"#d8576b\"], [0.6666666666666666, \"#ed7953\"], [0.7777777777777778, \"#fb9f3a\"], [0.8888888888888888, \"#fdca26\"], [1.0, \"#f0f921\"]], \"type\": \"heatmap\"}], \"heatmapgl\": [{\"colorbar\": {\"outlinewidth\": 0, \"ticks\": \"\"}, \"colorscale\": [[0.0, \"#0d0887\"], [0.1111111111111111, \"#46039f\"], [0.2222222222222222, \"#7201a8\"], [0.3333333333333333, \"#9c179e\"], [0.4444444444444444, \"#bd3786\"], [0.5555555555555556, \"#d8576b\"], [0.6666666666666666, \"#ed7953\"], [0.7777777777777778, \"#fb9f3a\"], [0.8888888888888888, \"#fdca26\"], [1.0, \"#f0f921\"]], \"type\": \"heatmapgl\"}], \"histogram\": [{\"marker\": {\"colorbar\": {\"outlinewidth\": 0, \"ticks\": \"\"}}, \"type\": \"histogram\"}], \"histogram2d\": [{\"colorbar\": {\"outlinewidth\": 0, \"ticks\": \"\"}, \"colorscale\": [[0.0, \"#0d0887\"], [0.1111111111111111, \"#46039f\"], [0.2222222222222222, \"#7201a8\"], [0.3333333333333333, \"#9c179e\"], [0.4444444444444444, \"#bd3786\"], [0.5555555555555556, \"#d8576b\"], [0.6666666666666666, \"#ed7953\"], [0.7777777777777778, \"#fb9f3a\"], [0.8888888888888888, \"#fdca26\"], [1.0, \"#f0f921\"]], \"type\": \"histogram2d\"}], \"histogram2dcontour\": [{\"colorbar\": {\"outlinewidth\": 0, \"ticks\": \"\"}, \"colorscale\": [[0.0, \"#0d0887\"], [0.1111111111111111, \"#46039f\"], [0.2222222222222222, \"#7201a8\"], [0.3333333333333333, \"#9c179e\"], [0.4444444444444444, \"#bd3786\"], [0.5555555555555556, \"#d8576b\"], [0.6666666666666666, \"#ed7953\"], [0.7777777777777778, \"#fb9f3a\"], [0.8888888888888888, \"#fdca26\"], [1.0, \"#f0f921\"]], \"type\": \"histogram2dcontour\"}], \"mesh3d\": [{\"colorbar\": {\"outlinewidth\": 0, \"ticks\": \"\"}, \"type\": \"mesh3d\"}], \"parcoords\": [{\"line\": {\"colorbar\": {\"outlinewidth\": 0, \"ticks\": \"\"}}, \"type\": \"parcoords\"}], \"pie\": [{\"automargin\": true, \"type\": \"pie\"}], \"scatter\": [{\"marker\": {\"colorbar\": {\"outlinewidth\": 0, \"ticks\": \"\"}}, \"type\": \"scatter\"}], \"scatter3d\": [{\"line\": {\"colorbar\": {\"outlinewidth\": 0, \"ticks\": \"\"}}, \"marker\": {\"colorbar\": {\"outlinewidth\": 0, \"ticks\": \"\"}}, \"type\": \"scatter3d\"}], \"scattercarpet\": [{\"marker\": {\"colorbar\": {\"outlinewidth\": 0, \"ticks\": \"\"}}, \"type\": \"scattercarpet\"}], \"scattergeo\": [{\"marker\": {\"colorbar\": {\"outlinewidth\": 0, \"ticks\": \"\"}}, \"type\": \"scattergeo\"}], \"scattergl\": [{\"marker\": {\"colorbar\": {\"outlinewidth\": 0, \"ticks\": \"\"}}, \"type\": \"scattergl\"}], \"scattermapbox\": [{\"marker\": {\"colorbar\": {\"outlinewidth\": 0, \"ticks\": \"\"}}, \"type\": \"scattermapbox\"}], \"scatterpolar\": [{\"marker\": {\"colorbar\": {\"outlinewidth\": 0, \"ticks\": \"\"}}, \"type\": \"scatterpolar\"}], \"scatterpolargl\": [{\"marker\": {\"colorbar\": {\"outlinewidth\": 0, \"ticks\": \"\"}}, \"type\": \"scatterpolargl\"}], \"scatterternary\": [{\"marker\": {\"colorbar\": {\"outlinewidth\": 0, \"ticks\": \"\"}}, \"type\": \"scatterternary\"}], \"surface\": [{\"colorbar\": {\"outlinewidth\": 0, \"ticks\": \"\"}, \"colorscale\": [[0.0, \"#0d0887\"], [0.1111111111111111, \"#46039f\"], [0.2222222222222222, \"#7201a8\"], [0.3333333333333333, \"#9c179e\"], [0.4444444444444444, \"#bd3786\"], [0.5555555555555556, \"#d8576b\"], [0.6666666666666666, \"#ed7953\"], [0.7777777777777778, \"#fb9f3a\"], [0.8888888888888888, \"#fdca26\"], [1.0, \"#f0f921\"]], \"type\": \"surface\"}], \"table\": [{\"cells\": {\"fill\": {\"color\": \"#EBF0F8\"}, \"line\": {\"color\": \"white\"}}, \"header\": {\"fill\": {\"color\": \"#C8D4E3\"}, \"line\": {\"color\": \"white\"}}, \"type\": \"table\"}]}, \"layout\": {\"annotationdefaults\": {\"arrowcolor\": \"#2a3f5f\", \"arrowhead\": 0, \"arrowwidth\": 1}, \"coloraxis\": {\"colorbar\": {\"outlinewidth\": 0, \"ticks\": \"\"}}, \"colorscale\": {\"diverging\": [[0, \"#8e0152\"], [0.1, \"#c51b7d\"], [0.2, \"#de77ae\"], [0.3, \"#f1b6da\"], [0.4, \"#fde0ef\"], [0.5, \"#f7f7f7\"], [0.6, \"#e6f5d0\"], [0.7, \"#b8e186\"], [0.8, \"#7fbc41\"], [0.9, \"#4d9221\"], [1, \"#276419\"]], \"sequential\": [[0.0, \"#0d0887\"], [0.1111111111111111, \"#46039f\"], [0.2222222222222222, \"#7201a8\"], [0.3333333333333333, \"#9c179e\"], [0.4444444444444444, \"#bd3786\"], [0.5555555555555556, \"#d8576b\"], [0.6666666666666666, \"#ed7953\"], [0.7777777777777778, \"#fb9f3a\"], [0.8888888888888888, \"#fdca26\"], [1.0, \"#f0f921\"]], \"sequentialminus\": [[0.0, \"#0d0887\"], [0.1111111111111111, \"#46039f\"], [0.2222222222222222, \"#7201a8\"], [0.3333333333333333, \"#9c179e\"], [0.4444444444444444, \"#bd3786\"], [0.5555555555555556, \"#d8576b\"], [0.6666666666666666, \"#ed7953\"], [0.7777777777777778, \"#fb9f3a\"], [0.8888888888888888, \"#fdca26\"], [1.0, \"#f0f921\"]]}, \"colorway\": [\"#636efa\", \"#EF553B\", \"#00cc96\", \"#ab63fa\", \"#FFA15A\", \"#19d3f3\", \"#FF6692\", \"#B6E880\", \"#FF97FF\", \"#FECB52\"], \"font\": {\"color\": \"#2a3f5f\"}, \"geo\": {\"bgcolor\": \"white\", \"lakecolor\": \"white\", \"landcolor\": \"#E5ECF6\", \"showlakes\": true, \"showland\": true, \"subunitcolor\": \"white\"}, \"hoverlabel\": {\"align\": \"left\"}, \"hovermode\": \"closest\", \"mapbox\": {\"style\": \"light\"}, \"paper_bgcolor\": \"white\", \"plot_bgcolor\": \"#E5ECF6\", \"polar\": {\"angularaxis\": {\"gridcolor\": \"white\", \"linecolor\": \"white\", \"ticks\": \"\"}, \"bgcolor\": \"#E5ECF6\", \"radialaxis\": {\"gridcolor\": \"white\", \"linecolor\": \"white\", \"ticks\": \"\"}}, \"scene\": {\"xaxis\": {\"backgroundcolor\": \"#E5ECF6\", \"gridcolor\": \"white\", \"gridwidth\": 2, \"linecolor\": \"white\", \"showbackground\": true, \"ticks\": \"\", \"zerolinecolor\": \"white\"}, \"yaxis\": {\"backgroundcolor\": \"#E5ECF6\", \"gridcolor\": \"white\", \"gridwidth\": 2, \"linecolor\": \"white\", \"showbackground\": true, \"ticks\": \"\", \"zerolinecolor\": \"white\"}, \"zaxis\": {\"backgroundcolor\": \"#E5ECF6\", \"gridcolor\": \"white\", \"gridwidth\": 2, \"linecolor\": \"white\", \"showbackground\": true, \"ticks\": \"\", \"zerolinecolor\": \"white\"}}, \"shapedefaults\": {\"line\": {\"color\": \"#2a3f5f\"}}, \"ternary\": {\"aaxis\": {\"gridcolor\": \"white\", \"linecolor\": \"white\", \"ticks\": \"\"}, \"baxis\": {\"gridcolor\": \"white\", \"linecolor\": \"white\", \"ticks\": \"\"}, \"bgcolor\": \"#E5ECF6\", \"caxis\": {\"gridcolor\": \"white\", \"linecolor\": \"white\", \"ticks\": \"\"}}, \"title\": {\"x\": 0.05}, \"xaxis\": {\"automargin\": true, \"gridcolor\": \"white\", \"linecolor\": \"white\", \"ticks\": \"\", \"title\": {\"standoff\": 15}, \"zerolinecolor\": \"white\", \"zerolinewidth\": 2}, \"yaxis\": {\"automargin\": true, \"gridcolor\": \"white\", \"linecolor\": \"white\", \"ticks\": \"\", \"title\": {\"standoff\": 15}, \"zerolinecolor\": \"white\", \"zerolinewidth\": 2}}}, \"title\": {\"text\": \"Label values by ALL\"}},\n",
       "                        {\"responsive\": true}\n",
       "                    ).then(function(){\n",
       "                            \n",
       "var gd = document.getElementById('83e6220a-8866-432a-b69d-790fa38ba579');\n",
       "var x = new MutationObserver(function (mutations, observer) {{\n",
       "        var display = window.getComputedStyle(gd).display;\n",
       "        if (!display || display === 'none') {{\n",
       "            console.log([gd, 'removed!']);\n",
       "            Plotly.purge(gd);\n",
       "            observer.disconnect();\n",
       "        }}\n",
       "}});\n",
       "\n",
       "// Listen for the removal of the full notebook cells\n",
       "var notebookContainer = gd.closest('#notebook-container');\n",
       "if (notebookContainer) {{\n",
       "    x.observe(notebookContainer, {childList: true});\n",
       "}}\n",
       "\n",
       "// Listen for the clearing of the current output cell\n",
       "var outputEl = gd.closest('.output');\n",
       "if (outputEl) {{\n",
       "    x.observe(outputEl, {childList: true});\n",
       "}}\n",
       "\n",
       "                        })\n",
       "                };\n",
       "                });\n",
       "            </script>\n",
       "        </div>"
      ]
     },
     "metadata": {},
     "output_type": "display_data"
    }
   ],
   "source": [
    "if res.result == \"ALL\":\n",
    "    plot_data = dataset\n",
    "else:\n",
    "    plot_data = dataset.loc[dataset[f\"{res.result}\"]==1]\n",
    "    \n",
    "x = [-1, 1]\n",
    "y = [abs(plot_data.query('y==-1')['y'].sum()), \n",
    "    plot_data.query('y==1')['y'].sum()]\n",
    "\n",
    "fig = go.FigureWidget(\n",
    "            data=[go.Bar(x=x, y=y,\n",
    "                         marker_color='lightskyblue',\n",
    "                         opacity=0.45)], \n",
    "            layout_title_text=f\"Label values by {res.result}\")\n",
    "\n",
    "fig.show()"
   ]
  },
  {
   "cell_type": "markdown",
   "metadata": {},
   "source": [
    "### Question 8)"
   ]
  },
  {
   "cell_type": "markdown",
   "metadata": {},
   "source": [
    "Q : Obtenir le meilleur modèle suivant 2 des 3 métriques suivantes : auc, précision, recall ainsi que le top 4 de l'importance des variables"
   ]
  },
  {
   "cell_type": "markdown",
   "metadata": {},
   "source": [
    "### DATA PREPROCESSING"
   ]
  },
  {
   "cell_type": "code",
   "execution_count": 49,
   "metadata": {},
   "outputs": [],
   "source": [
    "from exploratory_notebooks.helper_functions import handle_outliers\n",
    "from exploratory_notebooks.helper_functions import mean_encode"
   ]
  },
  {
   "cell_type": "code",
   "execution_count": 50,
   "metadata": {},
   "outputs": [
    {
     "data": {
      "text/plain": [
       "(6958, 247)"
      ]
     },
     "execution_count": 50,
     "metadata": {},
     "output_type": "execute_result"
    }
   ],
   "source": [
    "# remove outliers found related to volume\n",
    "preprocdata = handle_outliers(data, [\"VO\"] + [f\"VOL_{x}\" for x in [\"J\", \"S\", \"M\"]], 'remove')\n",
    "preprocdata.reset_index(drop=True, inplace=True)\n",
    "preprocdata.shape"
   ]
  },
  {
   "cell_type": "code",
   "execution_count": 51,
   "metadata": {},
   "outputs": [],
   "source": [
    "LABEL = \"RDMT_M\"\n",
    "\n",
    "X = preprocdata.loc[:,~data.columns.isin(variables_num_dep)].copy()\n",
    "y = preprocdata[LABEL].copy()\n",
    "y_label = pd.DataFrame({'y':[1 if v > 0 else -1 for v in y]})\n",
    "#y_label = y_label.y\n",
    "y_label.name = \"LABEL\""
   ]
  },
  {
   "cell_type": "code",
   "execution_count": 52,
   "metadata": {},
   "outputs": [],
   "source": [
    "# define folds for cross validation\n",
    "X_train, X_test, y_train, y_test = train_test_split(X, y_label, test_size=0.2, random_state=42)"
   ]
  },
  {
   "cell_type": "code",
   "execution_count": 53,
   "metadata": {},
   "outputs": [
    {
     "name": "stderr",
     "output_type": "stream",
     "text": [
      "/Users/Cisco/anaconda3/envs/MachineLearning/lib/python3.8/site-packages/pandas/core/indexing.py:966: SettingWithCopyWarning:\n",
      "\n",
      "\n",
      "A value is trying to be set on a copy of a slice from a DataFrame.\n",
      "Try using .loc[row_indexer,col_indexer] = value instead\n",
      "\n",
      "See the caveats in the documentation: https://pandas.pydata.org/pandas-docs/stable/user_guide/indexing.html#returning-a-view-versus-a-copy\n",
      "\n"
     ]
    }
   ],
   "source": [
    "# Fit the encoder on the training data to avoid leakage and encode tickers\n",
    "ticker_encoder = mean_encode(X_train, y_train, \"TICKER\")\n",
    "X_train.loc[:,\"TICKER\"] = X_train[\"TICKER\"].apply(lambda x: ticker_encoder[x])\n",
    "X_test.loc[:, \"TICKER\"] = X_test[\"TICKER\"].apply(lambda x: ticker_encoder[x])"
   ]
  },
  {
   "cell_type": "code",
   "execution_count": 54,
   "metadata": {},
   "outputs": [
    {
     "data": {
      "text/html": [
       "<div>\n",
       "<style scoped>\n",
       "    .dataframe tbody tr th:only-of-type {\n",
       "        vertical-align: middle;\n",
       "    }\n",
       "\n",
       "    .dataframe tbody tr th {\n",
       "        vertical-align: top;\n",
       "    }\n",
       "\n",
       "    .dataframe thead th {\n",
       "        text-align: right;\n",
       "    }\n",
       "</style>\n",
       "<table border=\"1\" class=\"dataframe\">\n",
       "  <thead>\n",
       "    <tr style=\"text-align: right;\">\n",
       "      <th></th>\n",
       "      <th>TICKER</th>\n",
       "      <th>annee</th>\n",
       "      <th>mois</th>\n",
       "      <th>jour</th>\n",
       "      <th>OP</th>\n",
       "      <th>VO</th>\n",
       "      <th>HISTO_J</th>\n",
       "      <th>HISTO_S</th>\n",
       "      <th>HISTO_M</th>\n",
       "      <th>VOL_J</th>\n",
       "      <th>...</th>\n",
       "      <th>strategique</th>\n",
       "      <th>transaction</th>\n",
       "      <th>actionnaires</th>\n",
       "      <th>coentreprise</th>\n",
       "      <th>construction</th>\n",
       "      <th>collaboration</th>\n",
       "      <th>developpement</th>\n",
       "      <th>l_acquisition</th>\n",
       "      <th>participation</th>\n",
       "      <th>recommandation</th>\n",
       "    </tr>\n",
       "  </thead>\n",
       "  <tbody>\n",
       "    <tr>\n",
       "      <th>44</th>\n",
       "      <td>0.000000</td>\n",
       "      <td>2017</td>\n",
       "      <td>8</td>\n",
       "      <td>11</td>\n",
       "      <td>39.285</td>\n",
       "      <td>997020</td>\n",
       "      <td>-0.011139</td>\n",
       "      <td>-0.037813</td>\n",
       "      <td>-0.060832</td>\n",
       "      <td>0.399955</td>\n",
       "      <td>...</td>\n",
       "      <td>0</td>\n",
       "      <td>0</td>\n",
       "      <td>0</td>\n",
       "      <td>0</td>\n",
       "      <td>0</td>\n",
       "      <td>0</td>\n",
       "      <td>0</td>\n",
       "      <td>0</td>\n",
       "      <td>0</td>\n",
       "      <td>0</td>\n",
       "    </tr>\n",
       "    <tr>\n",
       "      <th>3320</th>\n",
       "      <td>0.016393</td>\n",
       "      <td>2016</td>\n",
       "      <td>6</td>\n",
       "      <td>6</td>\n",
       "      <td>35.450</td>\n",
       "      <td>2581913</td>\n",
       "      <td>-0.006880</td>\n",
       "      <td>-0.052131</td>\n",
       "      <td>0.084816</td>\n",
       "      <td>-0.450697</td>\n",
       "      <td>...</td>\n",
       "      <td>0</td>\n",
       "      <td>0</td>\n",
       "      <td>0</td>\n",
       "      <td>0</td>\n",
       "      <td>0</td>\n",
       "      <td>0</td>\n",
       "      <td>0</td>\n",
       "      <td>0</td>\n",
       "      <td>0</td>\n",
       "      <td>0</td>\n",
       "    </tr>\n",
       "    <tr>\n",
       "      <th>4020</th>\n",
       "      <td>0.102041</td>\n",
       "      <td>2014</td>\n",
       "      <td>3</td>\n",
       "      <td>21</td>\n",
       "      <td>89.970</td>\n",
       "      <td>866695</td>\n",
       "      <td>-0.002563</td>\n",
       "      <td>0.026258</td>\n",
       "      <td>0.037320</td>\n",
       "      <td>0.335497</td>\n",
       "      <td>...</td>\n",
       "      <td>0</td>\n",
       "      <td>0</td>\n",
       "      <td>0</td>\n",
       "      <td>0</td>\n",
       "      <td>0</td>\n",
       "      <td>0</td>\n",
       "      <td>0</td>\n",
       "      <td>0</td>\n",
       "      <td>0</td>\n",
       "      <td>0</td>\n",
       "    </tr>\n",
       "    <tr>\n",
       "      <th>964</th>\n",
       "      <td>0.025210</td>\n",
       "      <td>2013</td>\n",
       "      <td>6</td>\n",
       "      <td>17</td>\n",
       "      <td>43.400</td>\n",
       "      <td>2861413</td>\n",
       "      <td>0.010860</td>\n",
       "      <td>-0.003417</td>\n",
       "      <td>-0.045802</td>\n",
       "      <td>-0.062397</td>\n",
       "      <td>...</td>\n",
       "      <td>0</td>\n",
       "      <td>0</td>\n",
       "      <td>0</td>\n",
       "      <td>0</td>\n",
       "      <td>0</td>\n",
       "      <td>0</td>\n",
       "      <td>0</td>\n",
       "      <td>0</td>\n",
       "      <td>0</td>\n",
       "      <td>0</td>\n",
       "    </tr>\n",
       "    <tr>\n",
       "      <th>1553</th>\n",
       "      <td>0.260274</td>\n",
       "      <td>2009</td>\n",
       "      <td>3</td>\n",
       "      <td>13</td>\n",
       "      <td>8.220</td>\n",
       "      <td>17358450</td>\n",
       "      <td>-0.023858</td>\n",
       "      <td>0.228090</td>\n",
       "      <td>-0.371581</td>\n",
       "      <td>0.183835</td>\n",
       "      <td>...</td>\n",
       "      <td>0</td>\n",
       "      <td>0</td>\n",
       "      <td>0</td>\n",
       "      <td>0</td>\n",
       "      <td>0</td>\n",
       "      <td>0</td>\n",
       "      <td>0</td>\n",
       "      <td>0</td>\n",
       "      <td>0</td>\n",
       "      <td>0</td>\n",
       "    </tr>\n",
       "    <tr>\n",
       "      <th>...</th>\n",
       "      <td>...</td>\n",
       "      <td>...</td>\n",
       "      <td>...</td>\n",
       "      <td>...</td>\n",
       "      <td>...</td>\n",
       "      <td>...</td>\n",
       "      <td>...</td>\n",
       "      <td>...</td>\n",
       "      <td>...</td>\n",
       "      <td>...</td>\n",
       "      <td>...</td>\n",
       "      <td>...</td>\n",
       "      <td>...</td>\n",
       "      <td>...</td>\n",
       "      <td>...</td>\n",
       "      <td>...</td>\n",
       "      <td>...</td>\n",
       "      <td>...</td>\n",
       "      <td>...</td>\n",
       "      <td>...</td>\n",
       "      <td>...</td>\n",
       "    </tr>\n",
       "    <tr>\n",
       "      <th>3772</th>\n",
       "      <td>0.308824</td>\n",
       "      <td>2017</td>\n",
       "      <td>10</td>\n",
       "      <td>4</td>\n",
       "      <td>61.610</td>\n",
       "      <td>429439</td>\n",
       "      <td>0.001790</td>\n",
       "      <td>0.020896</td>\n",
       "      <td>0.051768</td>\n",
       "      <td>1.108804</td>\n",
       "      <td>...</td>\n",
       "      <td>0</td>\n",
       "      <td>0</td>\n",
       "      <td>0</td>\n",
       "      <td>0</td>\n",
       "      <td>0</td>\n",
       "      <td>0</td>\n",
       "      <td>0</td>\n",
       "      <td>0</td>\n",
       "      <td>0</td>\n",
       "      <td>0</td>\n",
       "    </tr>\n",
       "    <tr>\n",
       "      <th>5191</th>\n",
       "      <td>0.326316</td>\n",
       "      <td>2012</td>\n",
       "      <td>9</td>\n",
       "      <td>10</td>\n",
       "      <td>27.970</td>\n",
       "      <td>585159</td>\n",
       "      <td>-0.009626</td>\n",
       "      <td>-0.012618</td>\n",
       "      <td>-0.027822</td>\n",
       "      <td>-0.236918</td>\n",
       "      <td>...</td>\n",
       "      <td>0</td>\n",
       "      <td>0</td>\n",
       "      <td>0</td>\n",
       "      <td>0</td>\n",
       "      <td>0</td>\n",
       "      <td>0</td>\n",
       "      <td>0</td>\n",
       "      <td>0</td>\n",
       "      <td>0</td>\n",
       "      <td>0</td>\n",
       "    </tr>\n",
       "    <tr>\n",
       "      <th>5226</th>\n",
       "      <td>0.326316</td>\n",
       "      <td>2013</td>\n",
       "      <td>5</td>\n",
       "      <td>22</td>\n",
       "      <td>40.805</td>\n",
       "      <td>751714</td>\n",
       "      <td>-0.005621</td>\n",
       "      <td>0.026359</td>\n",
       "      <td>0.163735</td>\n",
       "      <td>-0.198348</td>\n",
       "      <td>...</td>\n",
       "      <td>0</td>\n",
       "      <td>0</td>\n",
       "      <td>0</td>\n",
       "      <td>0</td>\n",
       "      <td>0</td>\n",
       "      <td>0</td>\n",
       "      <td>0</td>\n",
       "      <td>0</td>\n",
       "      <td>0</td>\n",
       "      <td>0</td>\n",
       "    </tr>\n",
       "    <tr>\n",
       "      <th>5390</th>\n",
       "      <td>0.326316</td>\n",
       "      <td>2017</td>\n",
       "      <td>4</td>\n",
       "      <td>25</td>\n",
       "      <td>75.950</td>\n",
       "      <td>1029410</td>\n",
       "      <td>-0.000923</td>\n",
       "      <td>0.041798</td>\n",
       "      <td>0.095100</td>\n",
       "      <td>-0.529982</td>\n",
       "      <td>...</td>\n",
       "      <td>0</td>\n",
       "      <td>0</td>\n",
       "      <td>0</td>\n",
       "      <td>0</td>\n",
       "      <td>0</td>\n",
       "      <td>0</td>\n",
       "      <td>0</td>\n",
       "      <td>0</td>\n",
       "      <td>0</td>\n",
       "      <td>0</td>\n",
       "    </tr>\n",
       "    <tr>\n",
       "      <th>860</th>\n",
       "      <td>0.056000</td>\n",
       "      <td>2011</td>\n",
       "      <td>6</td>\n",
       "      <td>8</td>\n",
       "      <td>49.860</td>\n",
       "      <td>1913518</td>\n",
       "      <td>-0.006778</td>\n",
       "      <td>-0.018519</td>\n",
       "      <td>0.004435</td>\n",
       "      <td>0.498388</td>\n",
       "      <td>...</td>\n",
       "      <td>0</td>\n",
       "      <td>0</td>\n",
       "      <td>0</td>\n",
       "      <td>0</td>\n",
       "      <td>0</td>\n",
       "      <td>0</td>\n",
       "      <td>0</td>\n",
       "      <td>0</td>\n",
       "      <td>0</td>\n",
       "      <td>0</td>\n",
       "    </tr>\n",
       "  </tbody>\n",
       "</table>\n",
       "<p>5566 rows × 244 columns</p>\n",
       "</div>"
      ],
      "text/plain": [
       "        TICKER  annee  mois  jour      OP        VO   HISTO_J   HISTO_S  \\\n",
       "44    0.000000   2017     8    11  39.285    997020 -0.011139 -0.037813   \n",
       "3320  0.016393   2016     6     6  35.450   2581913 -0.006880 -0.052131   \n",
       "4020  0.102041   2014     3    21  89.970    866695 -0.002563  0.026258   \n",
       "964   0.025210   2013     6    17  43.400   2861413  0.010860 -0.003417   \n",
       "1553  0.260274   2009     3    13   8.220  17358450 -0.023858  0.228090   \n",
       "...        ...    ...   ...   ...     ...       ...       ...       ...   \n",
       "3772  0.308824   2017    10     4  61.610    429439  0.001790  0.020896   \n",
       "5191  0.326316   2012     9    10  27.970    585159 -0.009626 -0.012618   \n",
       "5226  0.326316   2013     5    22  40.805    751714 -0.005621  0.026359   \n",
       "5390  0.326316   2017     4    25  75.950   1029410 -0.000923  0.041798   \n",
       "860   0.056000   2011     6     8  49.860   1913518 -0.006778 -0.018519   \n",
       "\n",
       "       HISTO_M     VOL_J  ...  strategique  transaction  actionnaires  \\\n",
       "44   -0.060832  0.399955  ...            0            0             0   \n",
       "3320  0.084816 -0.450697  ...            0            0             0   \n",
       "4020  0.037320  0.335497  ...            0            0             0   \n",
       "964  -0.045802 -0.062397  ...            0            0             0   \n",
       "1553 -0.371581  0.183835  ...            0            0             0   \n",
       "...        ...       ...  ...          ...          ...           ...   \n",
       "3772  0.051768  1.108804  ...            0            0             0   \n",
       "5191 -0.027822 -0.236918  ...            0            0             0   \n",
       "5226  0.163735 -0.198348  ...            0            0             0   \n",
       "5390  0.095100 -0.529982  ...            0            0             0   \n",
       "860   0.004435  0.498388  ...            0            0             0   \n",
       "\n",
       "      coentreprise  construction  collaboration  developpement  l_acquisition  \\\n",
       "44               0             0              0              0              0   \n",
       "3320             0             0              0              0              0   \n",
       "4020             0             0              0              0              0   \n",
       "964              0             0              0              0              0   \n",
       "1553             0             0              0              0              0   \n",
       "...            ...           ...            ...            ...            ...   \n",
       "3772             0             0              0              0              0   \n",
       "5191             0             0              0              0              0   \n",
       "5226             0             0              0              0              0   \n",
       "5390             0             0              0              0              0   \n",
       "860              0             0              0              0              0   \n",
       "\n",
       "      participation  recommandation  \n",
       "44                0               0  \n",
       "3320              0               0  \n",
       "4020              0               0  \n",
       "964               0               0  \n",
       "1553              0               0  \n",
       "...             ...             ...  \n",
       "3772              0               0  \n",
       "5191              0               0  \n",
       "5226              0               0  \n",
       "5390              0               0  \n",
       "860               0               0  \n",
       "\n",
       "[5566 rows x 244 columns]"
      ]
     },
     "execution_count": 54,
     "metadata": {},
     "output_type": "execute_result"
    }
   ],
   "source": [
    "X_train"
   ]
  },
  {
   "cell_type": "code",
   "execution_count": 58,
   "metadata": {},
   "outputs": [],
   "source": [
    "learning_rate = max_auc_res['parametres']['learning_rate']\n",
    "max_depth = max_auc_res['parametres']['max_depth']\n",
    "min_child_weight = max_auc_res['parametres']['min_child_weight']\n",
    "subsample = max_auc_res['parametres']['subsample']\n",
    "xgb = XGBClassifier(learning_rate=learning_rate,\n",
    "                    max_depth=max_depth,\n",
    "                    min_child_weight=min_child_weight,\n",
    "                    subsample=subsample,\n",
    "                    n_estimators=100)"
   ]
  },
  {
   "cell_type": "code",
   "execution_count": 59,
   "metadata": {},
   "outputs": [],
   "source": [
    "model = xgb.fit(X_train, y_train.y)\n",
    "y_test_pred = model.predict(X_test)"
   ]
  },
  {
   "cell_type": "code",
   "execution_count": 60,
   "metadata": {},
   "outputs": [
    {
     "data": {
      "text/plain": [
       "0.6210982117877705"
      ]
     },
     "execution_count": 60,
     "metadata": {},
     "output_type": "execute_result"
    }
   ],
   "source": [
    "roc_auc_score(y_test, y_test_pred)"
   ]
  },
  {
   "cell_type": "markdown",
   "metadata": {},
   "source": [
    "#### Mean encode all non-binary categorical variables i.e. dates + tickers"
   ]
  },
  {
   "cell_type": "code",
   "execution_count": 61,
   "metadata": {},
   "outputs": [
    {
     "name": "stderr",
     "output_type": "stream",
     "text": [
      "/Users/Cisco/anaconda3/envs/MachineLearning/lib/python3.8/site-packages/pandas/core/indexing.py:966: SettingWithCopyWarning:\n",
      "\n",
      "\n",
      "A value is trying to be set on a copy of a slice from a DataFrame.\n",
      "Try using .loc[row_indexer,col_indexer] = value instead\n",
      "\n",
      "See the caveats in the documentation: https://pandas.pydata.org/pandas-docs/stable/user_guide/indexing.html#returning-a-view-versus-a-copy\n",
      "\n"
     ]
    }
   ],
   "source": [
    "year_encoder = mean_encode(X_train, y_train, \"annee\")\n",
    "month_encoder = mean_encode(X_train, y_train, \"mois\")\n",
    "day_encoder = mean_encode(X_train, y_train, \"jour\")\n",
    "\n",
    "X_train.loc[:,\"annee\"] = X_train.loc[:,\"annee\"].apply(lambda x: year_encoder[x])\n",
    "X_train.loc[:,\"mois\"] = X_train.loc[:,\"mois\"].apply(lambda x: month_encoder[x])\n",
    "X_train.loc[:,\"jour\"] = X_train.loc[:,\"jour\"].apply(lambda x: day_encoder[x])\n",
    "\n",
    "X_test.loc[:,\"annee\"] = X_test.loc[:,\"annee\"].apply(lambda x: year_encoder[x])\n",
    "X_test.loc[:,\"mois\"] = X_test.loc[:,\"mois\"].apply(lambda x: month_encoder[x])\n",
    "X_test.loc[:,\"jour\"] = X_test.loc[:,\"jour\"].apply(lambda x: day_encoder[x])"
   ]
  },
  {
   "cell_type": "code",
   "execution_count": 62,
   "metadata": {},
   "outputs": [],
   "source": [
    "model = xgb.fit(X_train, y_train.y)\n",
    "y_test_pred = model.predict(X_test)"
   ]
  },
  {
   "cell_type": "code",
   "execution_count": 63,
   "metadata": {},
   "outputs": [
    {
     "data": {
      "text/plain": [
       "0.6213264449684576"
      ]
     },
     "execution_count": 63,
     "metadata": {},
     "output_type": "execute_result"
    }
   ],
   "source": [
    "auc = roc_auc_score(y_test, y_test_pred)\n",
    "auc"
   ]
  },
  {
   "cell_type": "markdown",
   "metadata": {},
   "source": [
    "#### **NO** : Standard scale all non-categorical variables"
   ]
  },
  {
   "cell_type": "code",
   "execution_count": null,
   "metadata": {},
   "outputs": [],
   "source": [
    "from sklearn.preprocessing import StandardScaler"
   ]
  },
  {
   "cell_type": "code",
   "execution_count": null,
   "metadata": {},
   "outputs": [],
   "source": [
    "num_vars = [\"OP\",\"VO\"] + [f\"{name}_{horizon}\" for horizon in [\"J\", \"S\", \"M\"] for name in [\"HISTO\", \"VOL\"]] + [\"DO_J\"]\n",
    "\n",
    "scaler = StandardScaler()\n",
    "scaler.fit(X_train.loc[:,num_vars])\n",
    "\n",
    "X_train.loc[:, num_vars] = scaler.transform(X_train.loc[:, num_vars])"
   ]
  },
  {
   "cell_type": "code",
   "execution_count": null,
   "metadata": {},
   "outputs": [],
   "source": [
    "X_train"
   ]
  },
  {
   "cell_type": "code",
   "execution_count": null,
   "metadata": {},
   "outputs": [],
   "source": [
    "model = xgb.fit(X_train, y_train.y)\n",
    "y_pred_test = model.predict(X_test)"
   ]
  },
  {
   "cell_type": "code",
   "execution_count": null,
   "metadata": {},
   "outputs": [],
   "source": [
    "roc_auc_score(y_test.y, y_pred_test)"
   ]
  },
  {
   "cell_type": "markdown",
   "metadata": {},
   "source": [
    "&rarr; **No Standard Scaling should be done**"
   ]
  },
  {
   "cell_type": "markdown",
   "metadata": {},
   "source": [
    "### Find all class imbalances in words"
   ]
  },
  {
   "cell_type": "code",
   "execution_count": 64,
   "metadata": {},
   "outputs": [],
   "source": [
    "words = list(X_train.columns[13:])"
   ]
  },
  {
   "cell_type": "code",
   "execution_count": 65,
   "metadata": {},
   "outputs": [],
   "source": [
    "counts = {}\n",
    "for word in words:\n",
    "    counts.update({word:preprocdata.loc[:, word].value_counts()})"
   ]
  },
  {
   "cell_type": "code",
   "execution_count": 66,
   "metadata": {},
   "outputs": [
    {
     "data": {
      "text/plain": [
       "<matplotlib.axes._subplots.AxesSubplot at 0x121d1d610>"
      ]
     },
     "execution_count": 66,
     "metadata": {},
     "output_type": "execute_result"
    },
    {
     "data": {
      "image/png": "[encoded data removed]",
      "text/plain": [
       "<Figure size 1008x576 with 1 Axes>"
      ]
     },
     "metadata": {
      "needs_background": "light"
     },
     "output_type": "display_data"
    }
   ],
   "source": [
    "pd.DataFrame(index=counts.keys(), data=counts.values()).plot.bar(figsize=(14,8))"
   ]
  },
  {
   "cell_type": "markdown",
   "metadata": {},
   "source": [
    "### IDEA: PCA word variables &rarr; Lost 2% AUC. **NO**"
   ]
  },
  {
   "cell_type": "code",
   "execution_count": 124,
   "metadata": {},
   "outputs": [],
   "source": [
    "from sklearn.decomposition import PCA\n",
    "pca_X_train, pca_y_train = X_train.copy(), y_train.copy()\n",
    "pca_X_test, pca_y_test = X_test.copy(), y_test.copy()"
   ]
  },
  {
   "cell_type": "code",
   "execution_count": 125,
   "metadata": {},
   "outputs": [
    {
     "data": {
      "text/plain": [
       "(5566, 231)"
      ]
     },
     "execution_count": 125,
     "metadata": {},
     "output_type": "execute_result"
    }
   ],
   "source": [
    "word_data = pca_X_train.loc[:, words]\n",
    "word_data.shape"
   ]
  },
  {
   "cell_type": "code",
   "execution_count": 126,
   "metadata": {},
   "outputs": [],
   "source": [
    "pca = PCA()\n",
    "pca_X_train.loc[:,words] = pca.fit_transform(word_data)"
   ]
  },
  {
   "cell_type": "code",
   "execution_count": 127,
   "metadata": {},
   "outputs": [
    {
     "data": {
      "text/plain": [
       "0.6092753123218572"
      ]
     },
     "execution_count": 127,
     "metadata": {},
     "output_type": "execute_result"
    }
   ],
   "source": [
    "model = xgb.fit(pca_X_train, pca_y_train.y)\n",
    "y_pred_test = model.predict(pca_X_test)\n",
    "roc_auc_score(pca_y_test, y_pred_test)"
   ]
  },
  {
   "cell_type": "code",
   "execution_count": 128,
   "metadata": {},
   "outputs": [],
   "source": [
    "last_kept_word = words[np.where(np.cumsum(pca.explained_variance_ratio_) > 0.99)[0][0]]\n",
    "pca_X_train = pca_X_train.loc[:,:last_kept_word]\n",
    "pca_X_test = pca_X_test.loc[:,:last_kept_word]"
   ]
  },
  {
   "cell_type": "code",
   "execution_count": 129,
   "metadata": {},
   "outputs": [
    {
     "data": {
      "text/plain": [
       "0.6132678153351663"
      ]
     },
     "execution_count": 129,
     "metadata": {},
     "output_type": "execute_result"
    }
   ],
   "source": [
    "model = xgb.fit(pca_X_train, pca_y_train.y)\n",
    "y_pred_test = model.predict(pca_X_test)\n",
    "roc_auc_score(pca_y_test, y_pred_test)"
   ]
  },
  {
   "cell_type": "markdown",
   "metadata": {},
   "source": [
    "### IDEA: Clustering on word variables"
   ]
  },
  {
   "cell_type": "markdown",
   "metadata": {},
   "source": [
    "##### Hierarchical clustering"
   ]
  },
  {
   "cell_type": "code",
   "execution_count": 164,
   "metadata": {},
   "outputs": [],
   "source": [
    "from sklearn.cluster import FeatureAgglomeration\n",
    "\n",
    "cluster_X_train, cluster_y_train = X_train.copy(), y_train.copy()\n",
    "cluster_X_test, cluster_y_test = X_test.copy(), y_test.copy()"
   ]
  },
  {
   "cell_type": "code",
   "execution_count": 165,
   "metadata": {},
   "outputs": [],
   "source": [
    "ward = FeatureAgglomeration(n_clusters=20)\n",
    "ward.fit(cluster_X_train.loc[:, words])\n",
    "\n",
    "clustered_words = ward.transform(cluster_X_train.loc[:, words])\n",
    "clustered_test_words = ward.transform(cluster_X_test.loc[:, words])"
   ]
  },
  {
   "cell_type": "code",
   "execution_count": 166,
   "metadata": {},
   "outputs": [],
   "source": [
    "cluster_X_train = cluster_X_train.drop(words, axis='columns')\n",
    "cluster_X_test = cluster_X_test.drop(words, axis='columns')\n",
    "for i in range(clustered_words.shape[1]):\n",
    "    cluster_X_train[f\"Word cluster {i}\"] = clustered_words[:,i]\n",
    "    cluster_X_test[f\"Word cluster {i}\"] = clustered_test_words[:, i]"
   ]
  },
  {
   "cell_type": "code",
   "execution_count": 167,
   "metadata": {},
   "outputs": [
    {
     "data": {
      "text/plain": [
       "0.6200948272053952"
      ]
     },
     "execution_count": 167,
     "metadata": {},
     "output_type": "execute_result"
    }
   ],
   "source": [
    "model = xgb.fit(cluster_X_train, cluster_y_train.y)\n",
    "y_pred_test = model.predict(cluster_X_test)\n",
    "roc_auc_score(cluster_y_test, y_pred_test)"
   ]
  },
  {
   "cell_type": "markdown",
   "metadata": {},
   "source": [
    "**Non material loss in AUC**"
   ]
  },
  {
   "cell_type": "markdown",
   "metadata": {},
   "source": [
    "##### KMeans"
   ]
  },
  {
   "cell_type": "code",
   "execution_count": 173,
   "metadata": {},
   "outputs": [],
   "source": [
    "from sklearn.cluster import KMeans\n",
    "\n",
    "cluster_X_train, cluster_y_train = X_train.copy(), y_train.copy()\n",
    "cluster_X_test, cluster_y_test = X_test.copy(), y_test.copy()"
   ]
  },
  {
   "cell_type": "code",
   "execution_count": 175,
   "metadata": {},
   "outputs": [],
   "source": [
    "km = KMeans(n_clusters=20)\n",
    "km.fit(cluster_X_train.loc[:, words])\n",
    "\n",
    "clustered_words = km.transform(cluster_X_train.loc[:, words])\n",
    "clustered_test_words = km.transform(cluster_X_test.loc[:, words])"
   ]
  },
  {
   "cell_type": "code",
   "execution_count": 176,
   "metadata": {},
   "outputs": [],
   "source": [
    "cluster_X_train = cluster_X_train.drop(words, axis='columns')\n",
    "cluster_X_test = cluster_X_test.drop(words, axis='columns')\n",
    "for i in range(clustered_words.shape[1]):\n",
    "    cluster_X_train[f\"Word cluster {i}\"] = clustered_words[:,i]\n",
    "    cluster_X_test[f\"Word cluster {i}\"] = clustered_test_words[:, i]"
   ]
  },
  {
   "cell_type": "code",
   "execution_count": 177,
   "metadata": {},
   "outputs": [
    {
     "data": {
      "text/plain": [
       "0.621094004724532"
      ]
     },
     "execution_count": 177,
     "metadata": {},
     "output_type": "execute_result"
    }
   ],
   "source": [
    "model = xgb.fit(cluster_X_train, cluster_y_train.y)\n",
    "y_pred_test = model.predict(cluster_X_test)\n",
    "roc_auc_score(cluster_y_test, y_pred_test)"
   ]
  },
  {
   "cell_type": "code",
   "execution_count": 178,
   "metadata": {},
   "outputs": [
    {
     "data": {
      "text/html": [
       "<div>\n",
       "<style scoped>\n",
       "    .dataframe tbody tr th:only-of-type {\n",
       "        vertical-align: middle;\n",
       "    }\n",
       "\n",
       "    .dataframe tbody tr th {\n",
       "        vertical-align: top;\n",
       "    }\n",
       "\n",
       "    .dataframe thead th {\n",
       "        text-align: right;\n",
       "    }\n",
       "</style>\n",
       "<table border=\"1\" class=\"dataframe\">\n",
       "  <thead>\n",
       "    <tr style=\"text-align: right;\">\n",
       "      <th></th>\n",
       "      <th>TICKER</th>\n",
       "      <th>annee</th>\n",
       "      <th>mois</th>\n",
       "      <th>jour</th>\n",
       "      <th>OP</th>\n",
       "      <th>VO</th>\n",
       "      <th>HISTO_J</th>\n",
       "      <th>HISTO_S</th>\n",
       "      <th>HISTO_M</th>\n",
       "      <th>VOL_J</th>\n",
       "      <th>...</th>\n",
       "      <th>Word cluster 10</th>\n",
       "      <th>Word cluster 11</th>\n",
       "      <th>Word cluster 12</th>\n",
       "      <th>Word cluster 13</th>\n",
       "      <th>Word cluster 14</th>\n",
       "      <th>Word cluster 15</th>\n",
       "      <th>Word cluster 16</th>\n",
       "      <th>Word cluster 17</th>\n",
       "      <th>Word cluster 18</th>\n",
       "      <th>Word cluster 19</th>\n",
       "    </tr>\n",
       "  </thead>\n",
       "  <tbody>\n",
       "    <tr>\n",
       "      <th>44</th>\n",
       "      <td>0.000000</td>\n",
       "      <td>0.170483</td>\n",
       "      <td>0.127726</td>\n",
       "      <td>0.150000</td>\n",
       "      <td>39.285</td>\n",
       "      <td>997020</td>\n",
       "      <td>-0.011139</td>\n",
       "      <td>-0.037813</td>\n",
       "      <td>-0.060832</td>\n",
       "      <td>0.399955</td>\n",
       "      <td>...</td>\n",
       "      <td>2.454547</td>\n",
       "      <td>1.824962</td>\n",
       "      <td>2.199478</td>\n",
       "      <td>1.857060</td>\n",
       "      <td>1.773843</td>\n",
       "      <td>0.989332</td>\n",
       "      <td>2.49873</td>\n",
       "      <td>1.826328</td>\n",
       "      <td>2.305463</td>\n",
       "      <td>2.095812</td>\n",
       "    </tr>\n",
       "    <tr>\n",
       "      <th>3320</th>\n",
       "      <td>0.016393</td>\n",
       "      <td>0.108830</td>\n",
       "      <td>-0.091255</td>\n",
       "      <td>0.079208</td>\n",
       "      <td>35.450</td>\n",
       "      <td>2581913</td>\n",
       "      <td>-0.006880</td>\n",
       "      <td>-0.052131</td>\n",
       "      <td>0.084816</td>\n",
       "      <td>-0.450697</td>\n",
       "      <td>...</td>\n",
       "      <td>2.248621</td>\n",
       "      <td>2.068156</td>\n",
       "      <td>2.407249</td>\n",
       "      <td>1.022890</td>\n",
       "      <td>2.036300</td>\n",
       "      <td>2.073728</td>\n",
       "      <td>2.67393</td>\n",
       "      <td>2.082180</td>\n",
       "      <td>2.460874</td>\n",
       "      <td>2.301229</td>\n",
       "    </tr>\n",
       "    <tr>\n",
       "      <th>4020</th>\n",
       "      <td>0.102041</td>\n",
       "      <td>0.026063</td>\n",
       "      <td>0.253333</td>\n",
       "      <td>0.098901</td>\n",
       "      <td>89.970</td>\n",
       "      <td>866695</td>\n",
       "      <td>-0.002563</td>\n",
       "      <td>0.026258</td>\n",
       "      <td>0.037320</td>\n",
       "      <td>0.335497</td>\n",
       "      <td>...</td>\n",
       "      <td>2.454547</td>\n",
       "      <td>1.807872</td>\n",
       "      <td>2.170054</td>\n",
       "      <td>1.853871</td>\n",
       "      <td>1.020420</td>\n",
       "      <td>1.816685</td>\n",
       "      <td>2.47990</td>\n",
       "      <td>1.800879</td>\n",
       "      <td>2.297416</td>\n",
       "      <td>2.045178</td>\n",
       "    </tr>\n",
       "    <tr>\n",
       "      <th>964</th>\n",
       "      <td>0.025210</td>\n",
       "      <td>0.245470</td>\n",
       "      <td>-0.091255</td>\n",
       "      <td>0.303371</td>\n",
       "      <td>43.400</td>\n",
       "      <td>2861413</td>\n",
       "      <td>0.010860</td>\n",
       "      <td>-0.003417</td>\n",
       "      <td>-0.045802</td>\n",
       "      <td>-0.062397</td>\n",
       "      <td>...</td>\n",
       "      <td>2.653403</td>\n",
       "      <td>2.068156</td>\n",
       "      <td>2.386388</td>\n",
       "      <td>2.103569</td>\n",
       "      <td>1.276049</td>\n",
       "      <td>2.075618</td>\n",
       "      <td>2.67393</td>\n",
       "      <td>2.061761</td>\n",
       "      <td>2.483346</td>\n",
       "      <td>2.287168</td>\n",
       "    </tr>\n",
       "    <tr>\n",
       "      <th>1553</th>\n",
       "      <td>0.260274</td>\n",
       "      <td>0.301435</td>\n",
       "      <td>0.253333</td>\n",
       "      <td>0.118280</td>\n",
       "      <td>8.220</td>\n",
       "      <td>17358450</td>\n",
       "      <td>-0.023858</td>\n",
       "      <td>0.228090</td>\n",
       "      <td>-0.371581</td>\n",
       "      <td>0.183835</td>\n",
       "      <td>...</td>\n",
       "      <td>2.454547</td>\n",
       "      <td>1.820095</td>\n",
       "      <td>2.196228</td>\n",
       "      <td>1.852274</td>\n",
       "      <td>1.778402</td>\n",
       "      <td>1.603413</td>\n",
       "      <td>2.47990</td>\n",
       "      <td>1.815768</td>\n",
       "      <td>2.032233</td>\n",
       "      <td>2.095812</td>\n",
       "    </tr>\n",
       "  </tbody>\n",
       "</table>\n",
       "<p>5 rows × 33 columns</p>\n",
       "</div>"
      ],
      "text/plain": [
       "        TICKER     annee      mois      jour      OP        VO   HISTO_J  \\\n",
       "44    0.000000  0.170483  0.127726  0.150000  39.285    997020 -0.011139   \n",
       "3320  0.016393  0.108830 -0.091255  0.079208  35.450   2581913 -0.006880   \n",
       "4020  0.102041  0.026063  0.253333  0.098901  89.970    866695 -0.002563   \n",
       "964   0.025210  0.245470 -0.091255  0.303371  43.400   2861413  0.010860   \n",
       "1553  0.260274  0.301435  0.253333  0.118280   8.220  17358450 -0.023858   \n",
       "\n",
       "       HISTO_S   HISTO_M     VOL_J  ...  Word cluster 10  Word cluster 11  \\\n",
       "44   -0.037813 -0.060832  0.399955  ...         2.454547         1.824962   \n",
       "3320 -0.052131  0.084816 -0.450697  ...         2.248621         2.068156   \n",
       "4020  0.026258  0.037320  0.335497  ...         2.454547         1.807872   \n",
       "964  -0.003417 -0.045802 -0.062397  ...         2.653403         2.068156   \n",
       "1553  0.228090 -0.371581  0.183835  ...         2.454547         1.820095   \n",
       "\n",
       "      Word cluster 12  Word cluster 13  Word cluster 14  Word cluster 15  \\\n",
       "44           2.199478         1.857060         1.773843         0.989332   \n",
       "3320         2.407249         1.022890         2.036300         2.073728   \n",
       "4020         2.170054         1.853871         1.020420         1.816685   \n",
       "964          2.386388         2.103569         1.276049         2.075618   \n",
       "1553         2.196228         1.852274         1.778402         1.603413   \n",
       "\n",
       "      Word cluster 16  Word cluster 17  Word cluster 18  Word cluster 19  \n",
       "44            2.49873         1.826328         2.305463         2.095812  \n",
       "3320          2.67393         2.082180         2.460874         2.301229  \n",
       "4020          2.47990         1.800879         2.297416         2.045178  \n",
       "964           2.67393         2.061761         2.483346         2.287168  \n",
       "1553          2.47990         1.815768         2.032233         2.095812  \n",
       "\n",
       "[5 rows x 33 columns]"
      ]
     },
     "execution_count": 178,
     "metadata": {},
     "output_type": "execute_result"
    }
   ],
   "source": [
    "cluster_X_train.head()"
   ]
  },
  {
   "cell_type": "markdown",
   "metadata": {},
   "source": [
    "##### **Non material loss in AUC**"
   ]
  },
  {
   "cell_type": "markdown",
   "metadata": {},
   "source": [
    "### IDEA: Rebalance label. There are currently ~1000 less negative observations than positive &rarr; **1% GAIN IN AUC**"
   ]
  },
  {
   "cell_type": "markdown",
   "metadata": {},
   "source": [
    "**SMOTE**"
   ]
  },
  {
   "cell_type": "code",
   "execution_count": 199,
   "metadata": {},
   "outputs": [],
   "source": [
    "from imblearn.over_sampling import SMOTE\n",
    "from imblearn.under_sampling import RandomUnderSampler\n",
    "from imblearn.pipeline import Pipeline"
   ]
  },
  {
   "cell_type": "code",
   "execution_count": 192,
   "metadata": {},
   "outputs": [],
   "source": [
    "oversample = SMOTE()\n",
    "\n",
    "over_X_train, over_y_train = X_train.copy(), y_train.copy()\n",
    "over_X_test, over_y_test = X_test.copy(), y_test.copy()\n",
    "\n",
    "over_X_train, over_y_train = oversample.fit_resample(over_X_train, over_y_train.y)"
   ]
  },
  {
   "cell_type": "code",
   "execution_count": 198,
   "metadata": {},
   "outputs": [
    {
     "data": {
      "text/plain": [
       "0.6328842994503472"
      ]
     },
     "execution_count": 198,
     "metadata": {},
     "output_type": "execute_result"
    }
   ],
   "source": [
    "model = xgb.fit(over_X_train, over_y_train)\n",
    "y_pred_test = model.predict(over_X_test)\n",
    "roc_auc_score(over_y_test.y, y_pred_test)"
   ]
  },
  {
   "cell_type": "markdown",
   "metadata": {},
   "source": [
    "**SMOTE + Undersampling of majority class**"
   ]
  },
  {
   "cell_type": "code",
   "execution_count": 217,
   "metadata": {},
   "outputs": [],
   "source": [
    "over = SMOTE()\n",
    "under = RandomUnderSampler()\n",
    "\n",
    "steps = [('over',over), ('under', under)]\n",
    "pipeline = Pipeline(steps=steps)\n",
    "\n",
    "X_res_train, y_res_train = pipeline.fit_resample(over_X_train, \n",
    "                                                 over_y_train)"
   ]
  },
  {
   "cell_type": "code",
   "execution_count": 218,
   "metadata": {},
   "outputs": [
    {
     "data": {
      "text/plain": [
       "0.6328842994503472"
      ]
     },
     "execution_count": 218,
     "metadata": {},
     "output_type": "execute_result"
    }
   ],
   "source": [
    "model = xgb.fit(over_X_train, over_y_train)\n",
    "y_pred_test = model.predict(over_X_test)\n",
    "roc_auc_score(over_y_test.y, y_pred_test)"
   ]
  },
  {
   "cell_type": "code",
   "execution_count": 215,
   "metadata": {},
   "outputs": [
    {
     "data": {
      "text/plain": [
       "-1    3104\n",
       " 1    3104\n",
       "Name: y, dtype: int64"
      ]
     },
     "execution_count": 215,
     "metadata": {},
     "output_type": "execute_result"
    }
   ],
   "source": [
    "y_res_train.value_counts()"
   ]
  },
  {
   "cell_type": "code",
   "execution_count": null,
   "metadata": {},
   "outputs": [],
   "source": []
  }
 ],
 "metadata": {
  "kernelspec": {
   "display_name": "Python 3",
   "language": "python",
   "name": "python3"
  },
  "language_info": {
   "codemirror_mode": {
    "name": "ipython",
    "version": 3
   },
   "file_extension": ".py",
   "mimetype": "text/x-python",
   "name": "python",
   "nbconvert_exporter": "python",
   "pygments_lexer": "ipython3",
   "version": "3.8.2"
  }
 },
 "nbformat": 4,
 "nbformat_minor": 4
}
